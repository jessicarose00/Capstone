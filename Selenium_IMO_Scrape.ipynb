{
 "cells": [
  {
   "cell_type": "code",
   "execution_count": null,
   "metadata": {},
   "outputs": [],
   "source": [
    "# Standard data manipulation libraries\n",
    "import pandas as pd\n",
    "import numpy as np\n",
    "\n",
    "# Webscraping imports\n",
    "from selenium import webdriver\n",
    "from selenium.webdriver.support.select import Select\n",
    "from selenium.webdriver.support.ui import WebDriverWait\n",
    "from selenium.webdriver.support import expected_conditions as EC\n",
    "from selenium.webdriver.common.by import By\n",
    "from selenium.webdriver.common.keys import Keys"
   ]
  },
  {
   "cell_type": "code",
   "execution_count": null,
   "metadata": {},
   "outputs": [],
   "source": [
    "# Test with random sample of 1000 ssvids\n",
    "sample_ssvid = pd.read_csv('./data/sample_ssvid.csv')"
   ]
  },
  {
   "cell_type": "code",
   "execution_count": null,
   "metadata": {},
   "outputs": [],
   "source": [
    "# convert ssvid column to list of numbers\n",
    "ssvids = sample_ssvid['ssvid'].values.tolist()\n",
    "ssvids[:10]"
   ]
  },
  {
   "cell_type": "code",
   "execution_count": null,
   "metadata": {},
   "outputs": [],
   "source": [
    "# define chromedriver location\n",
    "chromedriver = '/Users/jessicaertel/Downloads/chromedriver'\n",
    "\n",
    "# define driver object\n",
    "driver = webdriver.Chrome(chromedriver)\n",
    "\n",
    "# Open browser\n",
    "driver.get('https://webaccounts.imo.org')\n",
    "\n",
    "# Select 'Public' in drop down menu\n",
    "authority = Select(driver.find_element_by_name('ctl00$cpMain$ddlAuthorityType'))\n",
    "authority.select_by_value('PUBLIC')\n",
    "\n",
    "# Enter username and password\n",
    "driver.find_element_by_id(\"ctl00_cpMain_txtUsername\").send_keys(\"jessicaertel\")\n",
    "driver.find_element_by_id(\"ctl00_cpMain_txtPassword\").send_keys(\"fishRfriends0\")\n",
    "\n",
    "# Click log in button\n",
    "driver.find_element_by_id(\"ctl00_cpMain_btnLogin\").click()\n",
    "\n",
    "# Navigate to Global Integrated Shipping Information System\n",
    "driver.find_element_by_id(\"ctl00_cpMain_lnkGISIS\").click()\n",
    "driver.find_element_by_xpath('/html/body/form/table[4]/tbody/tr/td/table/tbody/tr/td/div[3]/a/div[2]/span[1]').click()\n",
    "\n",
    "# Create lists to hold scraped data\n",
    "name, imo_num, flag, call_sign, mmsi, vessel_type, built, tonnage, owner = [],[],[],[],[],[],[],[],[]\n",
    "        \n",
    "# For each number in ssvids\n",
    "for num in ssvids:\n",
    "    \n",
    "    # Enter number into MMSI field and click search\n",
    "    driver.find_element_by_id(\"ctl00_bodyPlaceHolder_Default_tbxShipMMSI\").send_keys(num)\n",
    "    driver.find_element_by_id(\"ctl00_bodyPlaceHolder_Default_btnSearchShips\").click()\n",
    "    driver.implicitly_wait(10)\n",
    "    #sleep(5)\n",
    "    \n",
    "    # Define two outcomes from search\n",
    "    no_result = EC.presence_of_element_located((By.XPATH, \"/html/body/form/table[4]/tbody/tr/td/table/tbody/tr[1]/td/center/table/tbody/tr[3]/td[1]/div/table/tbody/tr/td/p/a\"))\n",
    "    result = EC.presence_of_element_located((By.XPATH, \"/html/body/form/table[4]/tbody/tr/td/table/tbody/tr[1]/td/center/table/tbody/tr[3]/td[1]/div/table/tbody/tr[1]\"))\n",
    "\n",
    "#     no_result = driver.find_element_by_xpath('/html/body/form/table[4]/tbody/tr/td/table/tbody/tr[1]/td/center/table/tbody/tr[3]/td[1]/div/table/tbody/tr')\n",
    "#     result = driver.find_element_by_xpath('/html/body/form/table[4]/tbody/tr/td/table/tbody/tr[1]/td/center/table/tbody/tr[3]/td[1]/div/table/thead/tr')\n",
    "#     result = driver.find_element_by_id(\"ctl00_bodyPlaceHolder_Default_gridShips\")\n",
    "    \n",
    "    \n",
    "    # if no search result is displayed, remove text and add the next number\n",
    "    if no_result:\n",
    "        driver.find_element_by_id(\"ctl00_bodyPlaceHolder_Default_tbxShipMMSI\").clear()\n",
    "\n",
    "    # if there is a search result click on it\n",
    "    elif result: \n",
    "        driver.find_element_by_class_name('gridviewer_row tipsterise noline tooltipstered').click()\n",
    "        \n",
    "        # scrape and append data to each list\n",
    "        name.append(driver.find_element_by_id(\"sNameCur\"))\n",
    "        imo_num.append(driver.find_element_by_xpath(\"/html/body/form/table[4]/tbody/tr/td/table/tbody/tr[2]/td/div/table[1]/tbody/tr[2]/td[2]\"))\n",
    "        flag.append(driver.find_element_by_id(\"sFlagCur\"))\n",
    "        call_sign.append(driver.find_element_by_xpath(\"/html/body/form/table[4]/tbody/tr/td/table/tbody/tr[2]/td/div/table[1]/tbody/tr[4]/td[2]\"))\n",
    "        mmsi.append(driver.find_element_by_xpath(\"/html/body/form/table[4]/tbody/tr/td/table/tbody/tr[2]/td/div/table[1]/tbody/tr[5]/td[2]\"))\n",
    "        vessel_type.append(driver.find_element_by_id(\"sTypeCur\"))\n",
    "        built.append(driver.find_element_by_id(\"sBuildDateCur\"))\n",
    "        tonnage.append(driver.find_element_by_xpath(\"/html/body/form/table[4]/tbody/tr/td/table/tbody/tr[2]/td/div/table[2]/tbody/tr[3]/td[2]\"))\n",
    "        owner.append(driver.find_element_by_id(\"sRegOwnerCur\"))\n",
    "        \n",
    "        # return to the search page and clear search\n",
    "        driver.execute_script(\"window.history.go(-1)\")\n",
    "        driver.find_element_by_id(\"ctl00_bodyPlaceHolder_Default_tbxShipMMSI\").clear()"
   ]
  },
  {
   "cell_type": "code",
   "execution_count": null,
   "metadata": {},
   "outputs": [],
   "source": [
    "# transform lists into pandas dataframe\n",
    "imo = pd.DataFrame({'name': name,\n",
    "                     'imo_num': imo_num,\n",
    "                     'flag': flag,\n",
    "                     'call_sign': call_sign,\n",
    "                     'mmsi': mmsi,\n",
    "                     'vessel_type': vessel_type,\n",
    "                     'built' : built,\n",
    "                     'tonnage': tonnage,\n",
    "                     'owner': owner})"
   ]
  },
  {
   "cell_type": "markdown",
   "metadata": {},
   "source": [
    "## References\n",
    "- https://stackoverflow.com/questions/60362018/macos-catalinav-10-15-3-error-chromedriver-cannot-be-opened-because-the-de\n",
    "- https://selenium-python.readthedocs.io/locating-elements.html\n",
    "- https://stackoverflow.com/questions/27338742/how-do-i-send-a-delete-keystroke-to-a-text-field-using-selenium-with-python"
   ]
  }
 ],
 "metadata": {
  "kernelspec": {
   "display_name": "Python 3",
   "language": "python",
   "name": "python3"
  },
  "language_info": {
   "codemirror_mode": {
    "name": "ipython",
    "version": 3
   },
   "file_extension": ".py",
   "mimetype": "text/x-python",
   "name": "python",
   "nbconvert_exporter": "python",
   "pygments_lexer": "ipython3",
   "version": "3.7.6"
  },
  "toc": {
   "base_numbering": 1,
   "nav_menu": {},
   "number_sections": true,
   "sideBar": true,
   "skip_h1_title": false,
   "title_cell": "Table of Contents",
   "title_sidebar": "Contents",
   "toc_cell": false,
   "toc_position": {},
   "toc_section_display": true,
   "toc_window_display": false
  }
 },
 "nbformat": 4,
 "nbformat_minor": 2
}
