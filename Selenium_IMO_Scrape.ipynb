{
 "cells": [
  {
   "cell_type": "code",
   "execution_count": null,
   "metadata": {},
   "outputs": [],
   "source": [
    "# Standard data manipulation libraries\n",
    "import pandas as pd\n",
    "import numpy as np\n",
    "\n",
    "# Webscraping imports\n",
    "from selenium import webdriver\n",
    "from selenium.webdriver.support.select import Select\n",
    "from selenium.webdriver.support.ui import WebDriverWait\n",
    "from selenium.webdriver.support import expected_conditions as EC\n",
    "from selenium.webdriver.common.by import By\n",
    "from selenium.webdriver.common.keys import Keys\n",
    "import time"
   ]
  },
  {
   "cell_type": "code",
   "execution_count": null,
   "metadata": {},
   "outputs": [],
   "source": [
    "# Test with random sample of 1000 ssvids\n",
    "sample_ssvid = pd.read_csv('./data/sample_ssvid.csv')"
   ]
  },
  {
   "cell_type": "code",
   "execution_count": null,
   "metadata": {},
   "outputs": [],
   "source": [
    "ssvids = sample_ssvid[['ssvid']]"
   ]
  },
  {
   "cell_type": "code",
   "execution_count": null,
   "metadata": {},
   "outputs": [],
   "source": [
    "# convert ssvid column to list of numbers\n",
    "ssvids = sample_ssvid['ssvid'].values.tolist()\n",
    "ssvids[:5]"
   ]
  },
  {
   "cell_type": "markdown",
   "metadata": {},
   "source": [
    "## Algorithm 1"
   ]
  },
  {
   "cell_type": "code",
   "execution_count": null,
   "metadata": {},
   "outputs": [],
   "source": [
    "# define chromedriver location\n",
    "chromedriver = '/Users/jessicaertel/Downloads/chromedriver'\n",
    "\n",
    "# define driver object\n",
    "driver = webdriver.Chrome(chromedriver)\n",
    "\n",
    "# Open browser\n",
    "driver.get('https://webaccounts.imo.org')\n",
    "\n",
    "# Select 'Public' in drop down menu\n",
    "authority = Select(driver.find_element_by_name('ctl00$cpMain$ddlAuthorityType'))\n",
    "authority.select_by_value('PUBLIC')\n",
    "\n",
    "# Enter username and password\n",
    "driver.find_element_by_id(\"ctl00_cpMain_txtUsername\").send_keys(\"jessicarose\")\n",
    "driver.find_element_by_id(\"ctl00_cpMain_txtPassword\").send_keys(\"Fishing0\")\n",
    "\n",
    "# Click log in button\n",
    "driver.find_element_by_id(\"ctl00_cpMain_btnLogin\").click()\n",
    "\n",
    "# Navigate to Global Integrated Shipping Information System\n",
    "driver.find_element_by_id(\"ctl00_cpMain_lnkGISIS\").click()\n",
    "driver.find_element_by_xpath('/html/body/form/table[4]/tbody/tr/td/table/tbody/tr/td/div[3]/a/div[2]/span[1]').click()\n",
    "\n",
    "\n",
    "# Create a function that searches for each MMSI number in the IMO database\n",
    "# and classifies them into registered/not registered lists \n",
    "\n",
    "imo_reg = []\n",
    "imo_notreg = []\n",
    "\n",
    "def check_reg(num):\n",
    "    driver.find_element_by_id(\"ctl00_bodyPlaceHolder_Default_tbxShipMMSI\").send_keys(num)\n",
    "    driver.find_element_by_id(\"ctl00_bodyPlaceHolder_Default_btnSearchShips\").click()\n",
    "    time.sleep(1)\n",
    "    #table = driver.find_element_by_id('ctl00_bodyPlaceHolder_Default_gridShips')\n",
    "    #table = driver.find_element_by_class_name(\"gridviewer_grid\")\n",
    "    table = driver.find_element_by_xpath('//*[@id=\"ctl00_bodyPlaceHolder_Default_gridShips\"]')\n",
    "    rows = table.find_elements(By.TAG_NAME, \"tr\")\n",
    "    if len(rows) <= 1:\n",
    "        imo_notreg.append(num)\n",
    "    elif len(rows) >= 2:\n",
    "        imo_reg.append(num)\n",
    "    driver.find_element_by_id(\"ctl00_bodyPlaceHolder_Default_tbxShipMMSI\").clear() \n",
    "    return None\n",
    "\n",
    "# Iterate through the list of MMSI numbers\n",
    "for num in ssvids:\n",
    "    check_reg(num)\n",
    "print(len(imo_reg), len(imo_notreg))"
   ]
  },
  {
   "cell_type": "code",
   "execution_count": null,
   "metadata": {},
   "outputs": [],
   "source": [
    "# previously 3\n",
    "len(imo_reg)"
   ]
  },
  {
   "cell_type": "code",
   "execution_count": null,
   "metadata": {},
   "outputs": [],
   "source": [
    "# previously 107\n",
    "len(imo_notreg)"
   ]
  },
  {
   "cell_type": "markdown",
   "metadata": {},
   "source": [
    "## Algorithm 2"
   ]
  },
  {
   "cell_type": "markdown",
   "metadata": {},
   "source": [
    "- Added second if statement to catch multiple rows.\n",
    "- The header of the table is also being counted as a row - increased len of if statements. One search result will have len of 2.\n",
    "- used code from previous work where successful on scraping one search result\n",
    "- Only remaining issue is skipping the first row of multiple search results"
   ]
  },
  {
   "cell_type": "code",
   "execution_count": null,
   "metadata": {},
   "outputs": [],
   "source": [
    "# test MMSI num with one result and one with multiple\n",
    "test = [23510249, 900]"
   ]
  },
  {
   "cell_type": "code",
   "execution_count": null,
   "metadata": {},
   "outputs": [],
   "source": [
    "# define chromedriver location\n",
    "chromedriver = '/Users/jessicaertel/Downloads/chromedriver'\n",
    "\n",
    "# define driver object\n",
    "driver = webdriver.Chrome(chromedriver)\n",
    "\n",
    "# Open browser\n",
    "driver.get('https://webaccounts.imo.org')\n",
    "\n",
    "# Select 'Public' in drop down menu\n",
    "authority = Select(driver.find_element_by_name('ctl00$cpMain$ddlAuthorityType'))\n",
    "authority.select_by_value('PUBLIC')\n",
    "\n",
    "# Enter username and password\n",
    "driver.find_element_by_id(\"ctl00_cpMain_txtUsername\").send_keys(\"jessicarose\")\n",
    "driver.find_element_by_id(\"ctl00_cpMain_txtPassword\").send_keys(\"Fishing0\")\n",
    "\n",
    "# Click log in button\n",
    "driver.find_element_by_id(\"ctl00_cpMain_btnLogin\").click()\n",
    "\n",
    "# Navigate to Global Integrated Shipping Information System\n",
    "driver.find_element_by_id(\"ctl00_cpMain_lnkGISIS\").click()\n",
    "driver.find_element_by_xpath('/html/body/form/table[4]/tbody/tr/td/table/tbody/tr/td/div[3]/a/div[2]/span[1]').click()\n",
    "\n",
    "# Create lists to hold scraped data\n",
    "name, imo_num, flag, call_sign, mmsi, vessel_type, built, tonnage, owner = [],[],[],[],[],[],[],[],[]\n",
    "\n",
    "# For each number in ssvids\n",
    "for num in test:\n",
    "    \n",
    "    # Enter number into MMSI field and click search\n",
    "    driver.find_element_by_id(\"ctl00_bodyPlaceHolder_Default_tbxShipMMSI\").send_keys(num)\n",
    "    driver.find_element_by_id(\"ctl00_bodyPlaceHolder_Default_btnSearchShips\").click()\n",
    "    driver.implicitly_wait(5)\n",
    "    \n",
    "    # define the results table and rows\n",
    "    table = driver.find_element_by_id('ctl00_bodyPlaceHolder_Default_gridShips')\n",
    "    rows = table.find_elements(By.TAG_NAME, \"tr\")\n",
    "    \n",
    "    # if there is only one search result\n",
    "    if len(rows) == 2:\n",
    "        \n",
    "        # Find and click the result\n",
    "        driver.find_element_by_xpath('/html/body/form/table[4]/tbody/tr/td/table/tbody/tr[1]/td/center/table/tbody/tr[3]/td[1]/div/table/tbody/tr').click()\n",
    "#         WebDriverWait(driver, 5).until(EC.visibility_of_element_located((By.XPATH,f'/html/body/form/table[4]/tbody/tr/td/table/tbody/tr[1]/td/center/table/tbody/tr[3]/td[1]/div/table/tbody/tr[{row}]')))\n",
    "#         driver.find_element_by_xpath(f'//*[@id=\"ctl00_bodyPlaceHolder_Default_gridShips\"]/tbody/tr[{row}]').click()\n",
    "#         driver.find_element_by_xpath('//*[@id=\"ctl00_bodyPlaceHolder_Default_gridShips\"]/tbody/td').click()\n",
    "        \n",
    "        # scrape and append the data into lists\n",
    "        name.append(driver.find_element_by_id(\"sNameCur\").text)\n",
    "        imo_num.append(driver.find_element_by_xpath(\"/html/body/form/table[4]/tbody/tr/td/table/tbody/tr[2]/td/div/table[1]/tbody/tr[2]/td[2]\").text)\n",
    "        flag.append(driver.find_element_by_id(\"sFlagCur\").text)\n",
    "        call_sign.append(driver.find_element_by_xpath(\"/html/body/form/table[4]/tbody/tr/td/table/tbody/tr[2]/td/div/table[1]/tbody/tr[4]/td[2]\").text)\n",
    "        mmsi.append(driver.find_element_by_xpath(\"/html/body/form/table[4]/tbody/tr/td/table/tbody/tr[2]/td/div/table[1]/tbody/tr[5]/td[2]\").text)\n",
    "        vessel_type.append(driver.find_element_by_id(\"sTypeCur\").text)\n",
    "        built.append(driver.find_element_by_id(\"sBuildDateCur\").text)\n",
    "        tonnage.append(driver.find_element_by_xpath(\"/html/body/form/table[4]/tbody/tr/td/table/tbody/tr[2]/td/div/table[2]/tbody/tr[3]/td[2]\").text)\n",
    "        owner.append(driver.find_element_by_id(\"sRegOwnerCur\").text)\n",
    "        time.sleep(1)\n",
    "        \n",
    "        # return to the search results page and clear search field\n",
    "        driver.execute_script(\"window.history.go(-1)\")\n",
    "        \n",
    "        # Clear search field    \n",
    "        driver.find_element_by_id(\"ctl00_bodyPlaceHolder_Default_tbxShipMMSI\").clear()\n",
    "        \n",
    "    # if there are multiple search results, loop through each result\n",
    "    elif len(rows) > 2:\n",
    "        for row in range(1, len(rows)+1):\n",
    "\n",
    "            # wait until element appears, then click it\n",
    "            WebDriverWait(driver, 5).until(EC.visibility_of_element_located((By.XPATH,f'/html/body/form/table[4]/tbody/tr/td/table/tbody/tr[1]/td/center/table/tbody/tr[3]/td[1]/div/table/tbody/tr[{row}]')))\n",
    "            driver.find_element_by_xpath(f'//*[@id=\"ctl00_bodyPlaceHolder_Default_gridShips\"]/tbody/tr[{row}]').click()\n",
    "\n",
    "            # scrape and append the data into lists\n",
    "            name.append(driver.find_element_by_id(\"sNameCur\").text)\n",
    "            imo_num.append(driver.find_element_by_xpath(\"/html/body/form/table[4]/tbody/tr/td/table/tbody/tr[2]/td/div/table[1]/tbody/tr[2]/td[2]\").text)\n",
    "            flag.append(driver.find_element_by_id(\"sFlagCur\").text)\n",
    "            call_sign.append(driver.find_element_by_xpath(\"/html/body/form/table[4]/tbody/tr/td/table/tbody/tr[2]/td/div/table[1]/tbody/tr[4]/td[2]\").text)\n",
    "            mmsi.append(driver.find_element_by_xpath(\"/html/body/form/table[4]/tbody/tr/td/table/tbody/tr[2]/td/div/table[1]/tbody/tr[5]/td[2]\").text)\n",
    "            vessel_type.append(driver.find_element_by_id(\"sTypeCur\").text)\n",
    "            built.append(driver.find_element_by_id(\"sBuildDateCur\").text)\n",
    "            tonnage.append(driver.find_element_by_xpath(\"/html/body/form/table[4]/tbody/tr/td/table/tbody/tr[2]/td/div/table[2]/tbody/tr[3]/td[2]\").text)\n",
    "            owner.append(driver.find_element_by_id(\"sRegOwnerCur\").text)\n",
    "            time.sleep(1)\n",
    "\n",
    "            # return to the search results page to scrape next result\n",
    "            driver.execute_script(\"window.history.go(-1)\")\n",
    "\n",
    "    # Clear search field\n",
    "    driver.find_element_by_id(\"ctl00_bodyPlaceHolder_Default_tbxShipMMSI\").clear()"
   ]
  },
  {
   "cell_type": "code",
   "execution_count": null,
   "metadata": {},
   "outputs": [],
   "source": [
    "name, imo_num, flag, call_sign, mmsi, vessel_type, built, tonnage, owner"
   ]
  },
  {
   "cell_type": "code",
   "execution_count": null,
   "metadata": {},
   "outputs": [],
   "source": [
    "# transform lists into pandas dataframe\n",
    "imo = pd.DataFrame({'name': name,\n",
    "                     'imo_num': imo_num,\n",
    "                     'flag': flag,\n",
    "                     'call_sign': call_sign,\n",
    "                     'mmsi': mmsi,\n",
    "                     'vessel_type': vessel_type,\n",
    "                     'built' : built,\n",
    "                     'tonnage': tonnage,\n",
    "                     'owner': owner})"
   ]
  },
  {
   "cell_type": "markdown",
   "metadata": {},
   "source": [
    "## References\n",
    "- https://stackoverflow.com/questions/60362018/macos-catalinav-10-15-3-error-chromedriver-cannot-be-opened-because-the-de\n",
    "- https://selenium-python.readthedocs.io/locating-elements.html\n",
    "- https://stackoverflow.com/questions/27338742/how-do-i-send-a-delete-keystroke-to-a-text-field-using-selenium-with-python\n",
    "- https://stackoverflow.com/questions/12057118/iterate-through-table-in-selenium-2-webdriver-python"
   ]
  }
 ],
 "metadata": {
  "kernelspec": {
   "display_name": "Python 3",
   "language": "python",
   "name": "python3"
  },
  "language_info": {
   "codemirror_mode": {
    "name": "ipython",
    "version": 3
   },
   "file_extension": ".py",
   "mimetype": "text/x-python",
   "name": "python",
   "nbconvert_exporter": "python",
   "pygments_lexer": "ipython3",
   "version": "3.7.6"
  },
  "toc": {
   "base_numbering": 1,
   "nav_menu": {},
   "number_sections": true,
   "sideBar": true,
   "skip_h1_title": false,
   "title_cell": "Table of Contents",
   "title_sidebar": "Contents",
   "toc_cell": false,
   "toc_position": {
    "height": "calc(100% - 180px)",
    "left": "10px",
    "top": "150px",
    "width": "165px"
   },
   "toc_section_display": true,
   "toc_window_display": true
  }
 },
 "nbformat": 4,
 "nbformat_minor": 2
}
