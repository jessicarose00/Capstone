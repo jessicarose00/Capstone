{
 "cells": [
  {
   "cell_type": "markdown",
   "metadata": {},
   "source": [
    "# Data Acquisition: Scraping"
   ]
  },
  {
   "cell_type": "markdown",
   "metadata": {},
   "source": [
    "### Imports"
   ]
  },
  {
   "cell_type": "code",
   "execution_count": 1,
   "metadata": {},
   "outputs": [],
   "source": [
    "# Standard data manipulation libraries\n",
    "import pandas as pd\n",
    "import numpy as np\n",
    "\n",
    "# Webscraping imports\n",
    "from selenium import webdriver\n",
    "from selenium.webdriver.support.select import Select\n",
    "from selenium.webdriver.support.ui import WebDriverWait\n",
    "from selenium.webdriver.support import expected_conditions as EC\n",
    "from selenium.webdriver.common.by import By\n",
    "from selenium.webdriver.common.keys import Keys\n",
    "from selenium.common.exceptions import NoSuchElementException\n",
    "import time"
   ]
  },
  {
   "cell_type": "code",
   "execution_count": null,
   "metadata": {},
   "outputs": [],
   "source": [
    "data = pd.read_csv('./data/data.csv')"
   ]
  },
  {
   "cell_type": "code",
   "execution_count": null,
   "metadata": {},
   "outputs": [],
   "source": [
    "# convert ssvid column to list of numbers\n",
    "ssvids = data['ssvid'].values.tolist()\n",
    "len(ssvids)"
   ]
  },
  {
   "cell_type": "code",
   "execution_count": null,
   "metadata": {},
   "outputs": [],
   "source": [
    "# Split into 20 lists of 25,000 numbers to feed scraping tool\n",
    "groups = [ssvids[x:x+25000] for x in range(0, len(ssvids), 25000)]"
   ]
  },
  {
   "cell_type": "markdown",
   "metadata": {},
   "source": [
    "## Algorithm 1"
   ]
  },
  {
   "cell_type": "code",
   "execution_count": null,
   "metadata": {},
   "outputs": [],
   "source": [
    "imo_reg = []\n",
    "imo_notreg = []"
   ]
  },
  {
   "cell_type": "code",
   "execution_count": null,
   "metadata": {
    "scrolled": true
   },
   "outputs": [],
   "source": [
    "# define chromedriver location\n",
    "chromedriver = '/Users/jessicaertel/Downloads/chromedriver'\n",
    "\n",
    "# define driver object\n",
    "driver = webdriver.Chrome(chromedriver)\n",
    "\n",
    "# Open browser\n",
    "driver.get('https://webaccounts.imo.org')\n",
    "\n",
    "# Select 'Public' in drop down menu\n",
    "authority = Select(driver.find_element_by_name('ctl00$cpMain$ddlAuthorityType'))\n",
    "authority.select_by_value('PUBLIC')\n",
    "\n",
    "# Enter username and password\n",
    "driver.find_element_by_id(\"ctl00_cpMain_txtUsername\").send_keys(\"jessicarose\")\n",
    "driver.find_element_by_id(\"ctl00_cpMain_txtPassword\").send_keys(\"Fishing0\")\n",
    "\n",
    "# Click log in button\n",
    "driver.find_element_by_id(\"ctl00_cpMain_btnLogin\").click()\n",
    "\n",
    "# Navigate to Global Integrated Shipping Information System\n",
    "driver.find_element_by_id(\"ctl00_cpMain_lnkGISIS\").click()\n",
    "driver.find_element_by_xpath('/html/body/form/table[4]/tbody/tr/td/table/tbody/tr/td/div[3]/a/div[2]/span[1]').click()\n",
    "\n",
    "\n",
    "# Create a function that searches for each MMSI number in the IMO database\n",
    "# and classifies them into registered/not registered lists \n",
    "\n",
    "def check_registration(lst, group_num):\n",
    "    for num in lst:\n",
    "        \n",
    "        try:\n",
    "            driver.find_element_by_id(\"ctl00_bodyPlaceHolder_Default_tbxShipMMSI\").send_keys(num)\n",
    "            driver.find_element_by_id(\"ctl00_bodyPlaceHolder_Default_btnSearchShips\").click()\n",
    "            driver.implicitly_wait(5)\n",
    "            table = driver.find_element_by_xpath('//*[@id=\"ctl00_bodyPlaceHolder_Default_gridShips\"]')\n",
    "            #table = WebDriverWait(driver, 5).until(EC.visibility_of_element_located((By.XPATH,'//*[@id=\"ctl00_bodyPlaceHolder_Default_gridShips\"]')))\n",
    "            rows = table.find_elements(By.TAG_NAME, \"tr\")\n",
    "            if len(rows) <= 1:\n",
    "                imo_notreg.append(num)\n",
    "            elif len(rows) >= 2:\n",
    "                imo_reg.append(num)\n",
    "            driver.find_element_by_id(\"ctl00_bodyPlaceHolder_Default_tbxShipMMSI\").clear()\n",
    "            pd.Series(imo_notreg).to_csv(f'./imo_notreg{group_num}.csv')\n",
    "            pd.Series(imo_reg).to_csv(f'./imo_reg{group_num}.csv')\n",
    "        \n",
    "        except NoSuchElementException:\n",
    "            print(num)\n",
    "            \n",
    "check_registration(groups[13], 13)"
   ]
  },
  {
   "cell_type": "code",
   "execution_count": null,
   "metadata": {},
   "outputs": [],
   "source": [
    "# Check list length (to confirm scrape running properly)\n",
    "print(f'Registered:{len(imo_reg)} Unregistered:{len(imo_notreg)}')"
   ]
  },
  {
   "cell_type": "code",
   "execution_count": null,
   "metadata": {},
   "outputs": [],
   "source": [
    "# check for duplicates\n",
    "len(imo_reg) != len(set(imo_reg))"
   ]
  },
  {
   "cell_type": "code",
   "execution_count": 4,
   "metadata": {},
   "outputs": [],
   "source": [
    "# read in each list of categorized numbers (create function to do this?)\n",
    "nr1 = pd.read_csv('./imo_notreg.csv')\n",
    "r1 = pd.read_csv('./imo_reg.csv')\n",
    "nr2 = pd.read_csv('./imo_notreg2.csv')\n",
    "r2 = pd.read_csv('./imo_reg2.csv')\n",
    "nr3 = pd.read_csv('./imo_notreg3.csv')\n",
    "r3 = pd.read_csv('./imo_reg3.csv')\n",
    "nr4 = pd.read_csv('./imo_notreg4.csv')\n",
    "r4 = pd.read_csv('./imo_reg4.csv')\n",
    "nr5 = pd.read_csv('./imo_notreg5.csv')\n",
    "r5 = pd.read_csv('./imo_reg5.csv')\n",
    "nr6 = pd.read_csv('./imo_notreg6.csv')\n",
    "r6 = pd.read_csv('./imo_reg6.csv')\n",
    "nr7 = pd.read_csv('./imo_notreg7.csv')\n",
    "r7 = pd.read_csv('./imo_reg7.csv')\n",
    "nr8 = pd.read_csv('./imo_notreg8.csv')\n",
    "r8 = pd.read_csv('./imo_reg8.csv')\n",
    "nr9 = pd.read_csv('./imo_notreg9.csv')\n",
    "r9 = pd.read_csv('./imo_reg9.csv')\n",
    "nr10 = pd.read_csv('./imo_notreg10.csv')\n",
    "r10 = pd.read_csv('./imo_reg10.csv')\n",
    "nr11 = pd.read_csv('./imo_notreg11.csv')\n",
    "r11 = pd.read_csv('./imo_reg11.csv')\n",
    "nr12 = pd.read_csv('./imo_notreg12.csv')\n",
    "r12 = pd.read_csv('./imo_reg12.csv')\n",
    "nr13 = pd.read_csv('./imo_notreg13.csv')\n",
    "r13 = pd.read_csv('./imo_reg13.csv')"
   ]
  },
  {
   "cell_type": "code",
   "execution_count": 5,
   "metadata": {},
   "outputs": [
    {
     "name": "stdout",
     "output_type": "stream",
     "text": [
      "Registered:9221 Unregistered:79066\n"
     ]
    }
   ],
   "source": [
    "# concatenate the registered and non-registered IMO lists \n",
    "\n",
    "imo_reg = pd.concat([r1,r2,r3,r4,r5,r6,r7,r8,r9,r10,r11,r12,r13], axis=0).reset_index(drop=True)\n",
    "\n",
    "imo_notreg = pd.concat([nr1,nr2,nr3,nr4,nr5,nr6,nr7,nr8,nr9,nr10,nr11,nr12,nr13], axis=0).reset_index(drop=True)\n",
    "\n",
    "print(f'Registered:{len(imo_reg)} Unregistered:{len(imo_notreg)}')"
   ]
  },
  {
   "cell_type": "code",
   "execution_count": 6,
   "metadata": {},
   "outputs": [],
   "source": [
    "# Drop the unnamed column\n",
    "imo_reg.drop(columns=['Unnamed: 0'], inplace=True)\n",
    "imo_notreg.drop(columns=['Unnamed: 0'], inplace=True)"
   ]
  },
  {
   "cell_type": "code",
   "execution_count": 7,
   "metadata": {},
   "outputs": [],
   "source": [
    "# Save files as csv\n",
    "imo_reg.to_csv('./data/imo_reg.csv')\n",
    "imo_notreg.to_csv('./data/imo_notreg.csv')"
   ]
  },
  {
   "cell_type": "code",
   "execution_count": 8,
   "metadata": {},
   "outputs": [
    {
     "data": {
      "text/html": [
       "<div>\n",
       "<style scoped>\n",
       "    .dataframe tbody tr th:only-of-type {\n",
       "        vertical-align: middle;\n",
       "    }\n",
       "\n",
       "    .dataframe tbody tr th {\n",
       "        vertical-align: top;\n",
       "    }\n",
       "\n",
       "    .dataframe thead th {\n",
       "        text-align: right;\n",
       "    }\n",
       "</style>\n",
       "<table border=\"1\" class=\"dataframe\">\n",
       "  <thead>\n",
       "    <tr style=\"text-align: right;\">\n",
       "      <th></th>\n",
       "      <th>0</th>\n",
       "    </tr>\n",
       "  </thead>\n",
       "  <tbody>\n",
       "    <tr>\n",
       "      <th>0</th>\n",
       "      <td>224127330</td>\n",
       "    </tr>\n",
       "    <tr>\n",
       "      <th>1</th>\n",
       "      <td>412209234</td>\n",
       "    </tr>\n",
       "    <tr>\n",
       "      <th>2</th>\n",
       "      <td>367492660</td>\n",
       "    </tr>\n",
       "    <tr>\n",
       "      <th>3</th>\n",
       "      <td>224618000</td>\n",
       "    </tr>\n",
       "    <tr>\n",
       "      <th>4</th>\n",
       "      <td>247081930</td>\n",
       "    </tr>\n",
       "  </tbody>\n",
       "</table>\n",
       "</div>"
      ],
      "text/plain": [
       "           0\n",
       "0  224127330\n",
       "1  412209234\n",
       "2  367492660\n",
       "3  224618000\n",
       "4  247081930"
      ]
     },
     "execution_count": 8,
     "metadata": {},
     "output_type": "execute_result"
    }
   ],
   "source": [
    "imo_reg.head()"
   ]
  },
  {
   "cell_type": "code",
   "execution_count": 9,
   "metadata": {},
   "outputs": [
    {
     "data": {
      "text/html": [
       "<div>\n",
       "<style scoped>\n",
       "    .dataframe tbody tr th:only-of-type {\n",
       "        vertical-align: middle;\n",
       "    }\n",
       "\n",
       "    .dataframe tbody tr th {\n",
       "        vertical-align: top;\n",
       "    }\n",
       "\n",
       "    .dataframe thead th {\n",
       "        text-align: right;\n",
       "    }\n",
       "</style>\n",
       "<table border=\"1\" class=\"dataframe\">\n",
       "  <thead>\n",
       "    <tr style=\"text-align: right;\">\n",
       "      <th></th>\n",
       "      <th>0</th>\n",
       "    </tr>\n",
       "  </thead>\n",
       "  <tbody>\n",
       "    <tr>\n",
       "      <th>0</th>\n",
       "      <td>412422839</td>\n",
       "    </tr>\n",
       "    <tr>\n",
       "      <th>1</th>\n",
       "      <td>247143160</td>\n",
       "    </tr>\n",
       "    <tr>\n",
       "      <th>2</th>\n",
       "      <td>224231150</td>\n",
       "    </tr>\n",
       "    <tr>\n",
       "      <th>3</th>\n",
       "      <td>413002111</td>\n",
       "    </tr>\n",
       "    <tr>\n",
       "      <th>4</th>\n",
       "      <td>247074840</td>\n",
       "    </tr>\n",
       "  </tbody>\n",
       "</table>\n",
       "</div>"
      ],
      "text/plain": [
       "           0\n",
       "0  412422839\n",
       "1  247143160\n",
       "2  224231150\n",
       "3  413002111\n",
       "4  247074840"
      ]
     },
     "execution_count": 9,
     "metadata": {},
     "output_type": "execute_result"
    }
   ],
   "source": [
    "imo_notreg.head()"
   ]
  },
  {
   "cell_type": "code",
   "execution_count": 10,
   "metadata": {},
   "outputs": [],
   "source": [
    "# import data\n",
    "imo_reg_nums = pd.read_csv(\"./data/imo_reg.csv\")"
   ]
  },
  {
   "cell_type": "code",
   "execution_count": 11,
   "metadata": {},
   "outputs": [
    {
     "data": {
      "text/plain": [
       "9221"
      ]
     },
     "execution_count": 11,
     "metadata": {},
     "output_type": "execute_result"
    }
   ],
   "source": [
    "# create a list of numbers to feed second algorithm\n",
    "imo_reg_nums = imo_reg['0'].values.tolist()\n",
    "len(imo_reg_nums)"
   ]
  },
  {
   "cell_type": "markdown",
   "metadata": {},
   "source": [
    "## Algorithm 2"
   ]
  },
  {
   "cell_type": "markdown",
   "metadata": {},
   "source": [
    "- Added second if statement to catch multiple rows.\n",
    "- The header of the table is also being counted as a row - increased len of if statements. One search result will have len of 2.\n",
    "- used code from previous work where successful on scraping one search result\n",
    "- Only remaining issue is skipping the first row of multiple search results"
   ]
  },
  {
   "cell_type": "code",
   "execution_count": 12,
   "metadata": {},
   "outputs": [
    {
     "name": "stdout",
     "output_type": "stream",
     "text": [
      "100 have been scraped out of 9221\r"
     ]
    },
    {
     "ename": "NoSuchElementException",
     "evalue": "Message: no such element: Unable to locate element: {\"method\":\"css selector\",\"selector\":\"[id=\"sNameCur\"]\"}\n  (Session info: chrome=80.0.3987.132)\n",
     "output_type": "error",
     "traceback": [
      "\u001b[0;31m---------------------------------------------------------------------------\u001b[0m",
      "\u001b[0;31mNoSuchElementException\u001b[0m                    Traceback (most recent call last)",
      "\u001b[0;32m<ipython-input-12-39689d3989f2>\u001b[0m in \u001b[0;36m<module>\u001b[0;34m\u001b[0m\n\u001b[1;32m     54\u001b[0m \u001b[0;34m\u001b[0m\u001b[0m\n\u001b[1;32m     55\u001b[0m         \u001b[0;31m# scrape and append the data into lists\u001b[0m\u001b[0;34m\u001b[0m\u001b[0;34m\u001b[0m\u001b[0;34m\u001b[0m\u001b[0m\n\u001b[0;32m---> 56\u001b[0;31m         \u001b[0mname\u001b[0m\u001b[0;34m.\u001b[0m\u001b[0mappend\u001b[0m\u001b[0;34m(\u001b[0m\u001b[0mdriver\u001b[0m\u001b[0;34m.\u001b[0m\u001b[0mfind_element_by_id\u001b[0m\u001b[0;34m(\u001b[0m\u001b[0;34m\"sNameCur\"\u001b[0m\u001b[0;34m)\u001b[0m\u001b[0;34m.\u001b[0m\u001b[0mtext\u001b[0m\u001b[0;34m)\u001b[0m\u001b[0;34m\u001b[0m\u001b[0;34m\u001b[0m\u001b[0m\n\u001b[0m\u001b[1;32m     57\u001b[0m         \u001b[0mimo_num\u001b[0m\u001b[0;34m.\u001b[0m\u001b[0mappend\u001b[0m\u001b[0;34m(\u001b[0m\u001b[0mdriver\u001b[0m\u001b[0;34m.\u001b[0m\u001b[0mfind_element_by_xpath\u001b[0m\u001b[0;34m(\u001b[0m\u001b[0;34m\"/html/body/form/table[4]/tbody/tr/td/table/tbody/tr[2]/td/div/table[1]/tbody/tr[2]/td[2]\"\u001b[0m\u001b[0;34m)\u001b[0m\u001b[0;34m.\u001b[0m\u001b[0mtext\u001b[0m\u001b[0;34m)\u001b[0m\u001b[0;34m\u001b[0m\u001b[0;34m\u001b[0m\u001b[0m\n\u001b[1;32m     58\u001b[0m         \u001b[0mflag\u001b[0m\u001b[0;34m.\u001b[0m\u001b[0mappend\u001b[0m\u001b[0;34m(\u001b[0m\u001b[0mdriver\u001b[0m\u001b[0;34m.\u001b[0m\u001b[0mfind_element_by_id\u001b[0m\u001b[0;34m(\u001b[0m\u001b[0;34m\"sFlagCur\"\u001b[0m\u001b[0;34m)\u001b[0m\u001b[0;34m.\u001b[0m\u001b[0mtext\u001b[0m\u001b[0;34m)\u001b[0m\u001b[0;34m\u001b[0m\u001b[0;34m\u001b[0m\u001b[0m\n",
      "\u001b[0;32m~/anaconda3/lib/python3.7/site-packages/selenium/webdriver/remote/webdriver.py\u001b[0m in \u001b[0;36mfind_element_by_id\u001b[0;34m(self, id_)\u001b[0m\n\u001b[1;32m    358\u001b[0m             \u001b[0melement\u001b[0m \u001b[0;34m=\u001b[0m \u001b[0mdriver\u001b[0m\u001b[0;34m.\u001b[0m\u001b[0mfind_element_by_id\u001b[0m\u001b[0;34m(\u001b[0m\u001b[0;34m'foo'\u001b[0m\u001b[0;34m)\u001b[0m\u001b[0;34m\u001b[0m\u001b[0;34m\u001b[0m\u001b[0m\n\u001b[1;32m    359\u001b[0m         \"\"\"\n\u001b[0;32m--> 360\u001b[0;31m         \u001b[0;32mreturn\u001b[0m \u001b[0mself\u001b[0m\u001b[0;34m.\u001b[0m\u001b[0mfind_element\u001b[0m\u001b[0;34m(\u001b[0m\u001b[0mby\u001b[0m\u001b[0;34m=\u001b[0m\u001b[0mBy\u001b[0m\u001b[0;34m.\u001b[0m\u001b[0mID\u001b[0m\u001b[0;34m,\u001b[0m \u001b[0mvalue\u001b[0m\u001b[0;34m=\u001b[0m\u001b[0mid_\u001b[0m\u001b[0;34m)\u001b[0m\u001b[0;34m\u001b[0m\u001b[0;34m\u001b[0m\u001b[0m\n\u001b[0m\u001b[1;32m    361\u001b[0m \u001b[0;34m\u001b[0m\u001b[0m\n\u001b[1;32m    362\u001b[0m     \u001b[0;32mdef\u001b[0m \u001b[0mfind_elements_by_id\u001b[0m\u001b[0;34m(\u001b[0m\u001b[0mself\u001b[0m\u001b[0;34m,\u001b[0m \u001b[0mid_\u001b[0m\u001b[0;34m)\u001b[0m\u001b[0;34m:\u001b[0m\u001b[0;34m\u001b[0m\u001b[0;34m\u001b[0m\u001b[0m\n",
      "\u001b[0;32m~/anaconda3/lib/python3.7/site-packages/selenium/webdriver/remote/webdriver.py\u001b[0m in \u001b[0;36mfind_element\u001b[0;34m(self, by, value)\u001b[0m\n\u001b[1;32m    976\u001b[0m         return self.execute(Command.FIND_ELEMENT, {\n\u001b[1;32m    977\u001b[0m             \u001b[0;34m'using'\u001b[0m\u001b[0;34m:\u001b[0m \u001b[0mby\u001b[0m\u001b[0;34m,\u001b[0m\u001b[0;34m\u001b[0m\u001b[0;34m\u001b[0m\u001b[0m\n\u001b[0;32m--> 978\u001b[0;31m             'value': value})['value']\n\u001b[0m\u001b[1;32m    979\u001b[0m \u001b[0;34m\u001b[0m\u001b[0m\n\u001b[1;32m    980\u001b[0m     \u001b[0;32mdef\u001b[0m \u001b[0mfind_elements\u001b[0m\u001b[0;34m(\u001b[0m\u001b[0mself\u001b[0m\u001b[0;34m,\u001b[0m \u001b[0mby\u001b[0m\u001b[0;34m=\u001b[0m\u001b[0mBy\u001b[0m\u001b[0;34m.\u001b[0m\u001b[0mID\u001b[0m\u001b[0;34m,\u001b[0m \u001b[0mvalue\u001b[0m\u001b[0;34m=\u001b[0m\u001b[0;32mNone\u001b[0m\u001b[0;34m)\u001b[0m\u001b[0;34m:\u001b[0m\u001b[0;34m\u001b[0m\u001b[0;34m\u001b[0m\u001b[0m\n",
      "\u001b[0;32m~/anaconda3/lib/python3.7/site-packages/selenium/webdriver/remote/webdriver.py\u001b[0m in \u001b[0;36mexecute\u001b[0;34m(self, driver_command, params)\u001b[0m\n\u001b[1;32m    319\u001b[0m         \u001b[0mresponse\u001b[0m \u001b[0;34m=\u001b[0m \u001b[0mself\u001b[0m\u001b[0;34m.\u001b[0m\u001b[0mcommand_executor\u001b[0m\u001b[0;34m.\u001b[0m\u001b[0mexecute\u001b[0m\u001b[0;34m(\u001b[0m\u001b[0mdriver_command\u001b[0m\u001b[0;34m,\u001b[0m \u001b[0mparams\u001b[0m\u001b[0;34m)\u001b[0m\u001b[0;34m\u001b[0m\u001b[0;34m\u001b[0m\u001b[0m\n\u001b[1;32m    320\u001b[0m         \u001b[0;32mif\u001b[0m \u001b[0mresponse\u001b[0m\u001b[0;34m:\u001b[0m\u001b[0;34m\u001b[0m\u001b[0;34m\u001b[0m\u001b[0m\n\u001b[0;32m--> 321\u001b[0;31m             \u001b[0mself\u001b[0m\u001b[0;34m.\u001b[0m\u001b[0merror_handler\u001b[0m\u001b[0;34m.\u001b[0m\u001b[0mcheck_response\u001b[0m\u001b[0;34m(\u001b[0m\u001b[0mresponse\u001b[0m\u001b[0;34m)\u001b[0m\u001b[0;34m\u001b[0m\u001b[0;34m\u001b[0m\u001b[0m\n\u001b[0m\u001b[1;32m    322\u001b[0m             response['value'] = self._unwrap_value(\n\u001b[1;32m    323\u001b[0m                 response.get('value', None))\n",
      "\u001b[0;32m~/anaconda3/lib/python3.7/site-packages/selenium/webdriver/remote/errorhandler.py\u001b[0m in \u001b[0;36mcheck_response\u001b[0;34m(self, response)\u001b[0m\n\u001b[1;32m    240\u001b[0m                 \u001b[0malert_text\u001b[0m \u001b[0;34m=\u001b[0m \u001b[0mvalue\u001b[0m\u001b[0;34m[\u001b[0m\u001b[0;34m'alert'\u001b[0m\u001b[0;34m]\u001b[0m\u001b[0;34m.\u001b[0m\u001b[0mget\u001b[0m\u001b[0;34m(\u001b[0m\u001b[0;34m'text'\u001b[0m\u001b[0;34m)\u001b[0m\u001b[0;34m\u001b[0m\u001b[0;34m\u001b[0m\u001b[0m\n\u001b[1;32m    241\u001b[0m             \u001b[0;32mraise\u001b[0m \u001b[0mexception_class\u001b[0m\u001b[0;34m(\u001b[0m\u001b[0mmessage\u001b[0m\u001b[0;34m,\u001b[0m \u001b[0mscreen\u001b[0m\u001b[0;34m,\u001b[0m \u001b[0mstacktrace\u001b[0m\u001b[0;34m,\u001b[0m \u001b[0malert_text\u001b[0m\u001b[0;34m)\u001b[0m\u001b[0;34m\u001b[0m\u001b[0;34m\u001b[0m\u001b[0m\n\u001b[0;32m--> 242\u001b[0;31m         \u001b[0;32mraise\u001b[0m \u001b[0mexception_class\u001b[0m\u001b[0;34m(\u001b[0m\u001b[0mmessage\u001b[0m\u001b[0;34m,\u001b[0m \u001b[0mscreen\u001b[0m\u001b[0;34m,\u001b[0m \u001b[0mstacktrace\u001b[0m\u001b[0;34m)\u001b[0m\u001b[0;34m\u001b[0m\u001b[0;34m\u001b[0m\u001b[0m\n\u001b[0m\u001b[1;32m    243\u001b[0m \u001b[0;34m\u001b[0m\u001b[0m\n\u001b[1;32m    244\u001b[0m     \u001b[0;32mdef\u001b[0m \u001b[0m_value_or_default\u001b[0m\u001b[0;34m(\u001b[0m\u001b[0mself\u001b[0m\u001b[0;34m,\u001b[0m \u001b[0mobj\u001b[0m\u001b[0;34m,\u001b[0m \u001b[0mkey\u001b[0m\u001b[0;34m,\u001b[0m \u001b[0mdefault\u001b[0m\u001b[0;34m)\u001b[0m\u001b[0;34m:\u001b[0m\u001b[0;34m\u001b[0m\u001b[0;34m\u001b[0m\u001b[0m\n",
      "\u001b[0;31mNoSuchElementException\u001b[0m: Message: no such element: Unable to locate element: {\"method\":\"css selector\",\"selector\":\"[id=\"sNameCur\"]\"}\n  (Session info: chrome=80.0.3987.132)\n"
     ]
    }
   ],
   "source": [
    "# define chromedriver location\n",
    "chromedriver = '/Users/jessicaertel/Downloads/chromedriver'\n",
    "\n",
    "# define driver object\n",
    "driver = webdriver.Chrome(chromedriver)\n",
    "\n",
    "# Open browser\n",
    "driver.get('https://webaccounts.imo.org')\n",
    "\n",
    "# Select 'Public' in drop down menu\n",
    "authority = Select(driver.find_element_by_name('ctl00$cpMain$ddlAuthorityType'))\n",
    "authority.select_by_value('PUBLIC')\n",
    "\n",
    "# Enter username and password\n",
    "driver.find_element_by_id(\"ctl00_cpMain_txtUsername\").send_keys(\"sophiaann\")\n",
    "driver.find_element_by_id(\"ctl00_cpMain_txtPassword\").send_keys(\"Sunshine1\")\n",
    "\n",
    "# Click log in button\n",
    "driver.find_element_by_id(\"ctl00_cpMain_btnLogin\").click()\n",
    "\n",
    "# Navigate to Global Integrated Shipping Information System\n",
    "driver.find_element_by_id(\"ctl00_cpMain_lnkGISIS\").click()\n",
    "driver.find_element_by_xpath('/html/body/form/table[4]/tbody/tr/td/table/tbody/tr/td/div[3]/a/div[2]/span[1]').click()\n",
    "\n",
    "# Create lists to hold scraped data\n",
    "name, imo_num, flag, call_sign, mmsi, vessel_type, built, tonnage, owner = [],[],[],[],[],[],[],[],[]\n",
    "\n",
    "count = 0\n",
    "length = len(imo_reg_nums)\n",
    "\n",
    "# For each number in ssvids\n",
    "for num in imo_reg_nums:\n",
    "    count += 1\n",
    "    if count % 50 == 0:\n",
    "        print(f'{count} have been scraped out of {length}', end = '\\r')\n",
    "        \n",
    "    # Enter number into MMSI field and click search\n",
    "    driver.find_element_by_id(\"ctl00_bodyPlaceHolder_Default_tbxShipMMSI\").send_keys(num)\n",
    "    driver.find_element_by_id(\"ctl00_bodyPlaceHolder_Default_btnSearchShips\").click()\n",
    "    driver.implicitly_wait(5)\n",
    "    \n",
    "    # define the results table and rows\n",
    "    table = driver.find_element_by_id('ctl00_bodyPlaceHolder_Default_gridShips')\n",
    "    rows = table.find_elements(By.TAG_NAME, \"tr\")\n",
    "    \n",
    "    # if there is only one search result\n",
    "    if len(rows) == 2:\n",
    "        \n",
    "        # Find and click the result\n",
    "        driver.find_element_by_xpath('/html/body/form/table[4]/tbody/tr/td/table/tbody/tr[1]/td/center/table/tbody/tr[3]/td[1]/div/table/tbody/tr').click()\n",
    "#         WebDriverWait(driver, 5).until(EC.visibility_of_element_located((By.XPATH,f'/html/body/form/table[4]/tbody/tr/td/table/tbody/tr[1]/td/center/table/tbody/tr[3]/td[1]/div/table/tbody/tr[{row}]')))\n",
    "#         driver.find_element_by_xpath(f'//*[@id=\"ctl00_bodyPlaceHolder_Default_gridShips\"]/tbody/tr[{row}]').click()\n",
    "#         driver.find_element_by_xpath('//*[@id=\"ctl00_bodyPlaceHolder_Default_gridShips\"]/tbody/td').click()\n",
    "        \n",
    "        # scrape and append the data into lists\n",
    "        name.append(driver.find_element_by_id(\"sNameCur\").text)\n",
    "        imo_num.append(driver.find_element_by_xpath(\"/html/body/form/table[4]/tbody/tr/td/table/tbody/tr[2]/td/div/table[1]/tbody/tr[2]/td[2]\").text)\n",
    "        flag.append(driver.find_element_by_id(\"sFlagCur\").text)\n",
    "        call_sign.append(driver.find_element_by_xpath(\"/html/body/form/table[4]/tbody/tr/td/table/tbody/tr[2]/td/div/table[1]/tbody/tr[4]/td[2]\").text)\n",
    "        mmsi.append(driver.find_element_by_xpath(\"/html/body/form/table[4]/tbody/tr/td/table/tbody/tr[2]/td/div/table[1]/tbody/tr[5]/td[2]\").text)\n",
    "        vessel_type.append(driver.find_element_by_id(\"sTypeCur\").text)\n",
    "        built.append(driver.find_element_by_id(\"sBuildDateCur\").text)\n",
    "        tonnage.append(driver.find_element_by_xpath(\"/html/body/form/table[4]/tbody/tr/td/table/tbody/tr[2]/td/div/table[2]/tbody/tr[3]/td[2]\").text)\n",
    "        owner.append(driver.find_element_by_id(\"sRegOwnerCur\").text)\n",
    "        time.sleep(1)\n",
    "        \n",
    "        # return to the search results page and clear search field\n",
    "        driver.execute_script(\"window.history.go(-1)\")\n",
    "        \n",
    "        # Clear search field    \n",
    "        driver.find_element_by_id(\"ctl00_bodyPlaceHolder_Default_tbxShipMMSI\").clear()\n",
    "        \n",
    "    # if there are multiple search results, loop through each result\n",
    "    elif len(rows) > 2:\n",
    "        for row in range(1, len(rows)+1):\n",
    "\n",
    "            # wait until element appears, then click it\n",
    "            WebDriverWait(driver, 5).until(EC.visibility_of_element_located((By.XPATH,f'/html/body/form/table[4]/tbody/tr/td/table/tbody/tr[1]/td/center/table/tbody/tr[3]/td[1]/div/table/tbody/tr[{row}]')))\n",
    "            driver.find_element_by_xpath(f'//*[@id=\"ctl00_bodyPlaceHolder_Default_gridShips\"]/tbody/tr[{row}]').click()\n",
    "\n",
    "            # scrape and append the data into lists\n",
    "            name.append(driver.find_element_by_id(\"sNameCur\").text)\n",
    "            imo_num.append(driver.find_element_by_xpath(\"/html/body/form/table[4]/tbody/tr/td/table/tbody/tr[2]/td/div/table[1]/tbody/tr[2]/td[2]\").text)\n",
    "            flag.append(driver.find_element_by_id(\"sFlagCur\").text)\n",
    "            call_sign.append(driver.find_element_by_xpath(\"/html/body/form/table[4]/tbody/tr/td/table/tbody/tr[2]/td/div/table[1]/tbody/tr[4]/td[2]\").text)\n",
    "            mmsi.append(driver.find_element_by_xpath(\"/html/body/form/table[4]/tbody/tr/td/table/tbody/tr[2]/td/div/table[1]/tbody/tr[5]/td[2]\").text)\n",
    "            vessel_type.append(driver.find_element_by_id(\"sTypeCur\").text)\n",
    "            built.append(driver.find_element_by_id(\"sBuildDateCur\").text)\n",
    "            tonnage.append(driver.find_element_by_xpath(\"/html/body/form/table[4]/tbody/tr/td/table/tbody/tr[2]/td/div/table[2]/tbody/tr[3]/td[2]\").text)\n",
    "            owner.append(driver.find_element_by_id(\"sRegOwnerCur\").text)\n",
    "            time.sleep(1)\n",
    "\n",
    "            # return to the search results page to scrape next result\n",
    "            driver.execute_script(\"window.history.go(-1)\")\n",
    "\n",
    "    # Clear search field\n",
    "    driver.find_element_by_id(\"ctl00_bodyPlaceHolder_Default_tbxShipMMSI\").clear()"
   ]
  },
  {
   "cell_type": "code",
   "execution_count": null,
   "metadata": {},
   "outputs": [],
   "source": [
    "name, imo_num, flag, call_sign, mmsi, vessel_type, built, tonnage, owner"
   ]
  },
  {
   "cell_type": "code",
   "execution_count": null,
   "metadata": {},
   "outputs": [],
   "source": [
    "# transform lists into pandas dataframe\n",
    "imo = pd.DataFrame({'name': name,\n",
    "                     'imo_num': imo_num,\n",
    "                     'flag': flag,\n",
    "                     'call_sign': call_sign,\n",
    "                     'mmsi': mmsi,\n",
    "                     'vessel_type': vessel_type,\n",
    "                     'built' : built,\n",
    "                     'tonnage': tonnage,\n",
    "                     'owner': owner})"
   ]
  },
  {
   "cell_type": "code",
   "execution_count": null,
   "metadata": {},
   "outputs": [],
   "source": [
    "imo.shape"
   ]
  },
  {
   "cell_type": "code",
   "execution_count": null,
   "metadata": {},
   "outputs": [],
   "source": [
    "imo.to_csv('imo_scrape.csv', index=False)"
   ]
  },
  {
   "cell_type": "markdown",
   "metadata": {},
   "source": [
    "## References\n",
    "- https://stackoverflow.com/questions/60362018/macos-catalinav-10-15-3-error-chromedriver-cannot-be-opened-because-the-de\n",
    "- https://selenium-python.readthedocs.io/locating-elements.html\n",
    "- https://stackoverflow.com/questions/27338742/how-do-i-send-a-delete-keystroke-to-a-text-field-using-selenium-with-python\n",
    "- https://stackoverflow.com/questions/12057118/iterate-through-table-in-selenium-2-webdriver-python\n",
    "- https://stackoverflow.com/questions/9671224/split-a-python-list-into-other-sublists-i-e-smaller-lists"
   ]
  },
  {
   "cell_type": "code",
   "execution_count": null,
   "metadata": {},
   "outputs": [],
   "source": []
  }
 ],
 "metadata": {
  "kernelspec": {
   "display_name": "Python 3",
   "language": "python",
   "name": "python3"
  },
  "language_info": {
   "codemirror_mode": {
    "name": "ipython",
    "version": 3
   },
   "file_extension": ".py",
   "mimetype": "text/x-python",
   "name": "python",
   "nbconvert_exporter": "python",
   "pygments_lexer": "ipython3",
   "version": "3.7.6"
  },
  "toc": {
   "base_numbering": 1,
   "nav_menu": {},
   "number_sections": true,
   "sideBar": true,
   "skip_h1_title": false,
   "title_cell": "Table of Contents",
   "title_sidebar": "Contents",
   "toc_cell": false,
   "toc_position": {
    "height": "calc(100% - 180px)",
    "left": "10px",
    "top": "150px",
    "width": "165px"
   },
   "toc_section_display": true,
   "toc_window_display": true
  }
 },
 "nbformat": 4,
 "nbformat_minor": 2
}
