{
 "cells": [
  {
   "attachments": {},
   "cell_type": "markdown",
   "metadata": {},
   "source": [
    "## Overview: Illuminating Patterns in the Global Fishing and Ocean Sector\n",
    "The Global Fishing Watch's mission is to use satellite technology, cloud computing and machine learning to create a more complete and connected picture of global fishing activity. This capstone project is a compliment to their work on fishing and vessel detection.  \n",
    "\n",
    "The U.S. Coast Guard collects vessel traffic data, also known as Automatic Identification System (AIS) data, through onboard devices that monitor the real time location and characteristics of large vessels in U.S. and international waters. This data can provide valuable insights on vessel activity, however sometimes it is not always broadcasted. Is this happening due to a lack of satellite coverage, a dense fishing zone or for another reason?\n",
    "\n",
    "## Problem Statement\n",
    "I will build a classification model that identifies fishing/non-fishing vessels in international waters.  \n",
    "I will build a regression model that predicts the length of a gap event (when AIS is not broadcasted) based on the type of fishing vessel.\n",
    "\n",
    "## Approach\n",
    "_Please note these steps can be part of a longer-term agenda and are not all required to be completed within the scope of the capstone_  \n",
    "\n",
    "I. Classify fishing and non-fishing vessels.\n",
    "- **Question:** Are vessels authorized to be where they are?  \n",
    "- **Dataset:** GFW can provide Automatic Identification System (AIS) data, which will be in the form of labeled training data. Alternatively, public anonymized AIS datasets are also available and could be combined with vessel identification information scraped from fishing registry websites (GFW to provide further direction on registries).  \n",
    "- **Type:** Supervised, Classification\n",
    "- **Models:** Logistic regression, KNN, Bagged Decision Tree, Random Forest, Adaboost\n",
    "- **Performance Metrics:** R2/Accuracy\n",
    "\n",
    "II. Identify patterns in gap events (when AIS is not broadcasted).\n",
    "- **Question:** What is the relationship between the type of vessel and length of gap event? Where are gap events occuring?\n",
    "- **Dataset:** GFW can provide a fishery dataset that has gap events (length of gap) and vessel features (country, fishing class, size).\n",
    "- **Type:** Supervised, Regression\n",
    "- **Models:** Multiple Linear Regression, Bagged Decision Tree, Random Forest, Adaboost (maybe Kmeans/DBSCAN clustering to see if there are distinct groups of gap events and if they are suggestive of sketchy behavior?)\n",
    "- **Performance Metrics:** RMSE\n",
    "\n",
    "III. Fishing detection model with neural networks.  \n",
    "- **Question:** This would be an add on to the first question.\n",
    "- **Dataset:** GFW's research accelerator program provides data on their Results of Neural Net Classifier and MMSI Matched to Registries (in CSV format).\n",
    "- **Type:** Supervised, Classification\n",
    "- **Models:** Convoluted 1-dimensional neural network classifier (architecture is available from GFW)\n",
    "- **Performance Metrics:**"
   ]
  },
  {
   "cell_type": "markdown",
   "metadata": {},
   "source": [
    "Feedback\n",
    "could also be classification problem - if a gap occurs then what is the probability it could be one of these three reasons?\n",
    "do we care how long the gap is or are we just trying to determine whether or not it's fishing?\n",
    "real time? could be built as a real time monitoring system. \n",
    "might be out of scope for this project but good for post graduation."
   ]
  }
 ],
 "metadata": {
  "kernelspec": {
   "display_name": "Python 3",
   "language": "python",
   "name": "python3"
  },
  "language_info": {
   "codemirror_mode": {
    "name": "ipython",
    "version": 3
   },
   "file_extension": ".py",
   "mimetype": "text/x-python",
   "name": "python",
   "nbconvert_exporter": "python",
   "pygments_lexer": "ipython3",
   "version": "3.7.6"
  },
  "toc": {
   "base_numbering": 1,
   "nav_menu": {},
   "number_sections": true,
   "sideBar": true,
   "skip_h1_title": false,
   "title_cell": "Table of Contents",
   "title_sidebar": "Contents",
   "toc_cell": false,
   "toc_position": {},
   "toc_section_display": true,
   "toc_window_display": false
  }
 },
 "nbformat": 4,
 "nbformat_minor": 2
}
