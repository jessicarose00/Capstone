{
 "cells": [
  {
   "cell_type": "markdown",
   "metadata": {},
   "source": [
    "# Exploratory Data Analysis"
   ]
  },
  {
   "cell_type": "markdown",
   "metadata": {},
   "source": [
    "\n",
    "| Data Dictionary | Datatype | Description |\n",
    "|---------------------------|----------|-------------------------------------------------------------------------------------------------------|\n",
    "| ssvid | int64 | the vessel's MMSI code which is it's \"unique\" AIS ID |\n",
    "| gap_hours | float64 | length of the gap event |\n",
    "| gap_distance_m | float64 | distance of the gap event in miles |\n",
    "| gap_implied_speed_knots | float64 |  |\n",
    "| positions_per_day | float64 |  |\n",
    "| vessel_class | object | vessel geartype |\n",
    "| flag | object | The state a vessel is registered or licensed under |\n",
    "| off_timestamp | object | timestamp AIS was turned off |\n",
    "| off_msgid | object | message ID from AIS turning off |\n",
    "| off_lat | float64 | latitude when AIS turned off |\n",
    "| off_lon | float64 | longitude when AIS turned off |\n",
    "| off_type | object | the class of AIS device (A or B), Class A devices are more expensive, have stronger signals and broadcast more frequently |\n",
    "| off_receiver_type | object | whether the AIS message was recieved by a satellite or terrestrial receiver when turned off |\n",
    "| off_distance_from_shore_m | float64 | distance from shore when AIS turned off |\n",
    "| on_timestamp | object | timestamp AIS was turned on |\n",
    "| on_msgid | object | message ID from AIS turning on |\n",
    "| on_lat | float64 | latitude when AIS turned on |\n",
    "| on_lon | float64 | longitude when AIS turned on |\n",
    "| on_type | object | the class of AIS device (A or B), class A devices have stronger signals and broadcast more frequently |\n",
    "| on_receiver_type | object | whether the AIS message was recieved by a satellite or terrestrial receiver when turned on |\n",
    "| on_distance_from_shore_m | float64 | distance from shore when AIS turned on |"
   ]
  },
  {
   "cell_type": "markdown",
   "metadata": {},
   "source": [
    "### Import Packages and Data"
   ]
  },
  {
   "cell_type": "code",
   "execution_count": 1,
   "metadata": {},
   "outputs": [],
   "source": [
    "# standard data manipulation libraries\n",
    "import pandas as pd\n",
    "import numpy as np\n",
    "import matplotlib.pyplot as plt\n",
    "import seaborn as sns"
   ]
  },
  {
   "cell_type": "code",
   "execution_count": 81,
   "metadata": {},
   "outputs": [],
   "source": [
    "# import IMO non registered ID list and gap events dataset\n",
    "imo_notreg = pd.read_csv('./data/imo_notreg.csv')\n",
    "gap_events = pd.read_csv('./data/raw_sample.csv') "
   ]
  },
  {
   "cell_type": "code",
   "execution_count": 12,
   "metadata": {
    "scrolled": true
   },
   "outputs": [
    {
     "name": "stdout",
     "output_type": "stream",
     "text": [
      "Non-Registered Vessels: 79066\n",
      "Gap Events: 500000\n"
     ]
    }
   ],
   "source": [
    "# check the shape of each dataframe\n",
    "print(f'Non-Registered Vessels: {len(imo_notreg)}')\n",
    "print(f'Gap Events: {len(gap_events)}')"
   ]
  },
  {
   "cell_type": "code",
   "execution_count": 13,
   "metadata": {},
   "outputs": [
    {
     "data": {
      "text/plain": [
       "43168"
      ]
     },
     "execution_count": 13,
     "metadata": {},
     "output_type": "execute_result"
    }
   ],
   "source": [
    "# Check the number of unique values - 43,000\n",
    "imo_notreg['0'].nunique()"
   ]
  },
  {
   "cell_type": "code",
   "execution_count": 14,
   "metadata": {},
   "outputs": [
    {
     "data": {
      "text/plain": [
       "563022450    14\n",
       "431008005    13\n",
       "416005616    12\n",
       "228208700    12\n",
       "224220130    11\n",
       "             ..\n",
       "100899415     1\n",
       "412479697     1\n",
       "225985132     1\n",
       "412283514     1\n",
       "412352512     1\n",
       "Name: 0, Length: 43168, dtype: int64"
      ]
     },
     "execution_count": 14,
     "metadata": {},
     "output_type": "execute_result"
    }
   ],
   "source": [
    "# Confirm highest number of times a vessel appears\n",
    "imo_notreg['0'].value_counts()"
   ]
  },
  {
   "cell_type": "markdown",
   "metadata": {},
   "source": [
    "## Exploratory Analysis (Non-Registered Vessels)\n",
    "\n",
    "This section investigates patterns and relationships among the vessels that did not appear in the IMO database."
   ]
  },
  {
   "cell_type": "code",
   "execution_count": 15,
   "metadata": {},
   "outputs": [
    {
     "data": {
      "text/plain": [
       "(346762, 21)"
      ]
     },
     "execution_count": 15,
     "metadata": {},
     "output_type": "execute_result"
    }
   ],
   "source": [
    "# Filter the full gap events dataset to only include the non registered vessels\n",
    "gap_notreg = gap_events[gap_events['ssvid'].isin(imo_notreg['0'])]\n",
    "gap_notreg.shape"
   ]
  },
  {
   "cell_type": "code",
   "execution_count": 17,
   "metadata": {},
   "outputs": [
    {
     "data": {
      "text/html": [
       "<div>\n",
       "<style scoped>\n",
       "    .dataframe tbody tr th:only-of-type {\n",
       "        vertical-align: middle;\n",
       "    }\n",
       "\n",
       "    .dataframe tbody tr th {\n",
       "        vertical-align: top;\n",
       "    }\n",
       "\n",
       "    .dataframe thead th {\n",
       "        text-align: right;\n",
       "    }\n",
       "</style>\n",
       "<table border=\"1\" class=\"dataframe\">\n",
       "  <thead>\n",
       "    <tr style=\"text-align: right;\">\n",
       "      <th></th>\n",
       "      <th>mmsi</th>\n",
       "      <th>gap_hours</th>\n",
       "      <th>gap_distance_m</th>\n",
       "      <th>gap_implied_speed_knots</th>\n",
       "      <th>positions_per_day</th>\n",
       "      <th>vessel_class</th>\n",
       "      <th>flag</th>\n",
       "      <th>off_timestamp</th>\n",
       "      <th>off_msgid</th>\n",
       "      <th>off_lat</th>\n",
       "      <th>...</th>\n",
       "      <th>off_type</th>\n",
       "      <th>off_receiver_type</th>\n",
       "      <th>off_distance_from_shore_m</th>\n",
       "      <th>on_timestamp</th>\n",
       "      <th>on_msgid</th>\n",
       "      <th>on_lat</th>\n",
       "      <th>on_lon</th>\n",
       "      <th>on_type</th>\n",
       "      <th>on_receiver_type</th>\n",
       "      <th>on_distance_from_shore_m</th>\n",
       "    </tr>\n",
       "  </thead>\n",
       "  <tbody>\n",
       "    <tr>\n",
       "      <th>0</th>\n",
       "      <td>412422839</td>\n",
       "      <td>39.433333</td>\n",
       "      <td>535.624620</td>\n",
       "      <td>0.007334</td>\n",
       "      <td>0.034917</td>\n",
       "      <td>fishing</td>\n",
       "      <td>CHN</td>\n",
       "      <td>2018-11-02T08:32:54Z</td>\n",
       "      <td>ab04ae1f-022d-1cf8-6704-79f5c18f03fe</td>\n",
       "      <td>29.940583</td>\n",
       "      <td>...</td>\n",
       "      <td>B</td>\n",
       "      <td>terrestrial</td>\n",
       "      <td>0.0</td>\n",
       "      <td>2018-11-03T23:59:40Z</td>\n",
       "      <td>d66f5755-1e80-50b7-9c24-97affcd0d30b</td>\n",
       "      <td>29.938277</td>\n",
       "      <td>122.273638</td>\n",
       "      <td>B</td>\n",
       "      <td>terrestrial</td>\n",
       "      <td>1000.0</td>\n",
       "    </tr>\n",
       "    <tr>\n",
       "      <th>1</th>\n",
       "      <td>247143160</td>\n",
       "      <td>80.800000</td>\n",
       "      <td>1260.751756</td>\n",
       "      <td>0.008425</td>\n",
       "      <td>2.947519</td>\n",
       "      <td>trawlers</td>\n",
       "      <td>ITA</td>\n",
       "      <td>2018-05-18T18:22:40Z</td>\n",
       "      <td>a08e856c-e011-5dab-8ae8-03a4bf0c7ba1</td>\n",
       "      <td>38.099993</td>\n",
       "      <td>...</td>\n",
       "      <td>A</td>\n",
       "      <td>terrestrial</td>\n",
       "      <td>0.0</td>\n",
       "      <td>2018-05-22T03:11:32Z</td>\n",
       "      <td>97e47f62-0784-5e70-bea4-b57c23dcab63</td>\n",
       "      <td>38.088952</td>\n",
       "      <td>13.540445</td>\n",
       "      <td>A</td>\n",
       "      <td>terrestrial</td>\n",
       "      <td>0.0</td>\n",
       "    </tr>\n",
       "    <tr>\n",
       "      <th>2</th>\n",
       "      <td>224231150</td>\n",
       "      <td>15.816667</td>\n",
       "      <td>9683.318918</td>\n",
       "      <td>0.330574</td>\n",
       "      <td>0.115448</td>\n",
       "      <td>set_gillnets</td>\n",
       "      <td>ESP</td>\n",
       "      <td>2018-03-22T11:28:05Z</td>\n",
       "      <td>b4fbb421-1944-5a5f-b3ae-aabb589bb8d3</td>\n",
       "      <td>43.406192</td>\n",
       "      <td>...</td>\n",
       "      <td>B</td>\n",
       "      <td>terrestrial</td>\n",
       "      <td>3000.0</td>\n",
       "      <td>2018-03-23T03:17:34Z</td>\n",
       "      <td>7137847e-305e-5a4f-8b82-ab83b181c4ab</td>\n",
       "      <td>43.354105</td>\n",
       "      <td>-8.375345</td>\n",
       "      <td>B</td>\n",
       "      <td>terrestrial</td>\n",
       "      <td>1000.0</td>\n",
       "    </tr>\n",
       "    <tr>\n",
       "      <th>3</th>\n",
       "      <td>413002111</td>\n",
       "      <td>14.433333</td>\n",
       "      <td>2965.614746</td>\n",
       "      <td>0.110945</td>\n",
       "      <td>0.416022</td>\n",
       "      <td>trawlers</td>\n",
       "      <td>CHN</td>\n",
       "      <td>2018-02-28T19:59:57Z</td>\n",
       "      <td>06e02215-e3b7-59ac-8504-f404fc25196c</td>\n",
       "      <td>26.573672</td>\n",
       "      <td>...</td>\n",
       "      <td>A</td>\n",
       "      <td>terrestrial</td>\n",
       "      <td>42000.0</td>\n",
       "      <td>2018-03-01T10:26:32Z</td>\n",
       "      <td>499bb4b5-a209-5f79-9718-ea361000bbdc</td>\n",
       "      <td>26.564128</td>\n",
       "      <td>120.902237</td>\n",
       "      <td>A</td>\n",
       "      <td>terrestrial</td>\n",
       "      <td>44000.0</td>\n",
       "    </tr>\n",
       "    <tr>\n",
       "      <th>4</th>\n",
       "      <td>247074840</td>\n",
       "      <td>16.450000</td>\n",
       "      <td>495.809447</td>\n",
       "      <td>0.016275</td>\n",
       "      <td>0.538665</td>\n",
       "      <td>trawlers</td>\n",
       "      <td>ITA</td>\n",
       "      <td>2018-04-25T07:43:16Z</td>\n",
       "      <td>248c64e1-6d7b-5553-bffe-8974fc455332</td>\n",
       "      <td>44.675090</td>\n",
       "      <td>...</td>\n",
       "      <td>A</td>\n",
       "      <td>terrestrial</td>\n",
       "      <td>0.0</td>\n",
       "      <td>2018-04-26T00:10:43Z</td>\n",
       "      <td>5659fa33-6771-584a-95a5-4d35df3f544f</td>\n",
       "      <td>44.675367</td>\n",
       "      <td>12.235438</td>\n",
       "      <td>A</td>\n",
       "      <td>terrestrial</td>\n",
       "      <td>0.0</td>\n",
       "    </tr>\n",
       "  </tbody>\n",
       "</table>\n",
       "<p>5 rows × 21 columns</p>\n",
       "</div>"
      ],
      "text/plain": [
       "        mmsi  gap_hours  gap_distance_m  gap_implied_speed_knots  \\\n",
       "0  412422839  39.433333      535.624620                 0.007334   \n",
       "1  247143160  80.800000     1260.751756                 0.008425   \n",
       "2  224231150  15.816667     9683.318918                 0.330574   \n",
       "3  413002111  14.433333     2965.614746                 0.110945   \n",
       "4  247074840  16.450000      495.809447                 0.016275   \n",
       "\n",
       "   positions_per_day  vessel_class flag         off_timestamp  \\\n",
       "0           0.034917       fishing  CHN  2018-11-02T08:32:54Z   \n",
       "1           2.947519      trawlers  ITA  2018-05-18T18:22:40Z   \n",
       "2           0.115448  set_gillnets  ESP  2018-03-22T11:28:05Z   \n",
       "3           0.416022      trawlers  CHN  2018-02-28T19:59:57Z   \n",
       "4           0.538665      trawlers  ITA  2018-04-25T07:43:16Z   \n",
       "\n",
       "                              off_msgid    off_lat  ...  off_type  \\\n",
       "0  ab04ae1f-022d-1cf8-6704-79f5c18f03fe  29.940583  ...         B   \n",
       "1  a08e856c-e011-5dab-8ae8-03a4bf0c7ba1  38.099993  ...         A   \n",
       "2  b4fbb421-1944-5a5f-b3ae-aabb589bb8d3  43.406192  ...         B   \n",
       "3  06e02215-e3b7-59ac-8504-f404fc25196c  26.573672  ...         A   \n",
       "4  248c64e1-6d7b-5553-bffe-8974fc455332  44.675090  ...         A   \n",
       "\n",
       "  off_receiver_type off_distance_from_shore_m          on_timestamp  \\\n",
       "0       terrestrial                       0.0  2018-11-03T23:59:40Z   \n",
       "1       terrestrial                       0.0  2018-05-22T03:11:32Z   \n",
       "2       terrestrial                    3000.0  2018-03-23T03:17:34Z   \n",
       "3       terrestrial                   42000.0  2018-03-01T10:26:32Z   \n",
       "4       terrestrial                       0.0  2018-04-26T00:10:43Z   \n",
       "\n",
       "                               on_msgid     on_lat      on_lon  on_type  \\\n",
       "0  d66f5755-1e80-50b7-9c24-97affcd0d30b  29.938277  122.273638        B   \n",
       "1  97e47f62-0784-5e70-bea4-b57c23dcab63  38.088952   13.540445        A   \n",
       "2  7137847e-305e-5a4f-8b82-ab83b181c4ab  43.354105   -8.375345        B   \n",
       "3  499bb4b5-a209-5f79-9718-ea361000bbdc  26.564128  120.902237        A   \n",
       "4  5659fa33-6771-584a-95a5-4d35df3f544f  44.675367   12.235438        A   \n",
       "\n",
       "  on_receiver_type on_distance_from_shore_m  \n",
       "0      terrestrial                   1000.0  \n",
       "1      terrestrial                      0.0  \n",
       "2      terrestrial                   1000.0  \n",
       "3      terrestrial                  44000.0  \n",
       "4      terrestrial                      0.0  \n",
       "\n",
       "[5 rows x 21 columns]"
      ]
     },
     "execution_count": 17,
     "metadata": {},
     "output_type": "execute_result"
    }
   ],
   "source": [
    "# change ssvid column name for consistency\n",
    "gap_notreg = gap_notreg.rename(columns={'ssvid':'mmsi'})\n",
    "gap_notreg.head()"
   ]
  },
  {
   "cell_type": "code",
   "execution_count": 34,
   "metadata": {},
   "outputs": [
    {
     "data": {
      "text/html": [
       "<div>\n",
       "<style scoped>\n",
       "    .dataframe tbody tr th:only-of-type {\n",
       "        vertical-align: middle;\n",
       "    }\n",
       "\n",
       "    .dataframe tbody tr th {\n",
       "        vertical-align: top;\n",
       "    }\n",
       "\n",
       "    .dataframe thead th {\n",
       "        text-align: right;\n",
       "    }\n",
       "</style>\n",
       "<table border=\"1\" class=\"dataframe\">\n",
       "  <thead>\n",
       "    <tr style=\"text-align: right;\">\n",
       "      <th></th>\n",
       "      <th>mmsi</th>\n",
       "      <th>gap_hours</th>\n",
       "      <th>gap_distance_m</th>\n",
       "      <th>gap_implied_speed_knots</th>\n",
       "      <th>positions_per_day</th>\n",
       "      <th>off_lat</th>\n",
       "      <th>off_lon</th>\n",
       "      <th>off_distance_from_shore_m</th>\n",
       "      <th>on_lat</th>\n",
       "      <th>on_lon</th>\n",
       "      <th>on_distance_from_shore_m</th>\n",
       "    </tr>\n",
       "  </thead>\n",
       "  <tbody>\n",
       "    <tr>\n",
       "      <th>count</th>\n",
       "      <td>3.467620e+05</td>\n",
       "      <td>346762.000000</td>\n",
       "      <td>3.467620e+05</td>\n",
       "      <td>346762.000000</td>\n",
       "      <td>344906.000000</td>\n",
       "      <td>346762.000000</td>\n",
       "      <td>346762.000000</td>\n",
       "      <td>3.467540e+05</td>\n",
       "      <td>346762.000000</td>\n",
       "      <td>346762.000000</td>\n",
       "      <td>3.467560e+05</td>\n",
       "    </tr>\n",
       "    <tr>\n",
       "      <th>mean</th>\n",
       "      <td>4.134220e+08</td>\n",
       "      <td>125.473019</td>\n",
       "      <td>2.873190e+04</td>\n",
       "      <td>0.414658</td>\n",
       "      <td>11.761397</td>\n",
       "      <td>31.890658</td>\n",
       "      <td>90.835906</td>\n",
       "      <td>1.838358e+04</td>\n",
       "      <td>31.893232</td>\n",
       "      <td>90.844197</td>\n",
       "      <td>1.865638e+04</td>\n",
       "    </tr>\n",
       "    <tr>\n",
       "      <th>std</th>\n",
       "      <td>1.803360e+08</td>\n",
       "      <td>429.313197</td>\n",
       "      <td>1.693180e+05</td>\n",
       "      <td>3.504960</td>\n",
       "      <td>41.770756</td>\n",
       "      <td>12.703357</td>\n",
       "      <td>57.082368</td>\n",
       "      <td>7.212948e+04</td>\n",
       "      <td>12.698465</td>\n",
       "      <td>57.077196</td>\n",
       "      <td>7.240180e+04</td>\n",
       "    </tr>\n",
       "    <tr>\n",
       "      <th>min</th>\n",
       "      <td>1.114720e+05</td>\n",
       "      <td>12.000000</td>\n",
       "      <td>0.000000e+00</td>\n",
       "      <td>0.000000</td>\n",
       "      <td>0.000000</td>\n",
       "      <td>-89.977667</td>\n",
       "      <td>-179.833372</td>\n",
       "      <td>0.000000e+00</td>\n",
       "      <td>-89.929540</td>\n",
       "      <td>-179.909047</td>\n",
       "      <td>0.000000e+00</td>\n",
       "    </tr>\n",
       "    <tr>\n",
       "      <th>25%</th>\n",
       "      <td>2.774402e+08</td>\n",
       "      <td>16.733333</td>\n",
       "      <td>3.407681e+02</td>\n",
       "      <td>0.003546</td>\n",
       "      <td>0.001704</td>\n",
       "      <td>24.832000</td>\n",
       "      <td>109.011728</td>\n",
       "      <td>0.000000e+00</td>\n",
       "      <td>24.840870</td>\n",
       "      <td>109.005823</td>\n",
       "      <td>0.000000e+00</td>\n",
       "    </tr>\n",
       "    <tr>\n",
       "      <th>50%</th>\n",
       "      <td>4.124257e+08</td>\n",
       "      <td>30.550000</td>\n",
       "      <td>3.613040e+03</td>\n",
       "      <td>0.044143</td>\n",
       "      <td>0.051323</td>\n",
       "      <td>31.008883</td>\n",
       "      <td>119.521981</td>\n",
       "      <td>2.000000e+03</td>\n",
       "      <td>31.038048</td>\n",
       "      <td>119.530272</td>\n",
       "      <td>2.000000e+03</td>\n",
       "    </tr>\n",
       "    <tr>\n",
       "      <th>75%</th>\n",
       "      <td>4.160017e+08</td>\n",
       "      <td>83.016667</td>\n",
       "      <td>1.703127e+04</td>\n",
       "      <td>0.237987</td>\n",
       "      <td>1.785874</td>\n",
       "      <td>37.930020</td>\n",
       "      <td>121.949576</td>\n",
       "      <td>1.300000e+04</td>\n",
       "      <td>37.930048</td>\n",
       "      <td>121.953170</td>\n",
       "      <td>1.300000e+04</td>\n",
       "    </tr>\n",
       "    <tr>\n",
       "      <th>max</th>\n",
       "      <td>1.020002e+09</td>\n",
       "      <td>15511.116667</td>\n",
       "      <td>1.919246e+07</td>\n",
       "      <td>617.980208</td>\n",
       "      <td>735.613968</td>\n",
       "      <td>72.965227</td>\n",
       "      <td>179.995645</td>\n",
       "      <td>1.994000e+06</td>\n",
       "      <td>72.889147</td>\n",
       "      <td>179.999600</td>\n",
       "      <td>2.002000e+06</td>\n",
       "    </tr>\n",
       "  </tbody>\n",
       "</table>\n",
       "</div>"
      ],
      "text/plain": [
       "               mmsi      gap_hours  gap_distance_m  gap_implied_speed_knots  \\\n",
       "count  3.467620e+05  346762.000000    3.467620e+05            346762.000000   \n",
       "mean   4.134220e+08     125.473019    2.873190e+04                 0.414658   \n",
       "std    1.803360e+08     429.313197    1.693180e+05                 3.504960   \n",
       "min    1.114720e+05      12.000000    0.000000e+00                 0.000000   \n",
       "25%    2.774402e+08      16.733333    3.407681e+02                 0.003546   \n",
       "50%    4.124257e+08      30.550000    3.613040e+03                 0.044143   \n",
       "75%    4.160017e+08      83.016667    1.703127e+04                 0.237987   \n",
       "max    1.020002e+09   15511.116667    1.919246e+07               617.980208   \n",
       "\n",
       "       positions_per_day        off_lat        off_lon  \\\n",
       "count      344906.000000  346762.000000  346762.000000   \n",
       "mean           11.761397      31.890658      90.835906   \n",
       "std            41.770756      12.703357      57.082368   \n",
       "min             0.000000     -89.977667    -179.833372   \n",
       "25%             0.001704      24.832000     109.011728   \n",
       "50%             0.051323      31.008883     119.521981   \n",
       "75%             1.785874      37.930020     121.949576   \n",
       "max           735.613968      72.965227     179.995645   \n",
       "\n",
       "       off_distance_from_shore_m         on_lat         on_lon  \\\n",
       "count               3.467540e+05  346762.000000  346762.000000   \n",
       "mean                1.838358e+04      31.893232      90.844197   \n",
       "std                 7.212948e+04      12.698465      57.077196   \n",
       "min                 0.000000e+00     -89.929540    -179.909047   \n",
       "25%                 0.000000e+00      24.840870     109.005823   \n",
       "50%                 2.000000e+03      31.038048     119.530272   \n",
       "75%                 1.300000e+04      37.930048     121.953170   \n",
       "max                 1.994000e+06      72.889147     179.999600   \n",
       "\n",
       "       on_distance_from_shore_m  \n",
       "count              3.467560e+05  \n",
       "mean               1.865638e+04  \n",
       "std                7.240180e+04  \n",
       "min                0.000000e+00  \n",
       "25%                0.000000e+00  \n",
       "50%                2.000000e+03  \n",
       "75%                1.300000e+04  \n",
       "max                2.002000e+06  "
      ]
     },
     "execution_count": 34,
     "metadata": {},
     "output_type": "execute_result"
    }
   ],
   "source": [
    "gap_notreg.describe()"
   ]
  },
  {
   "cell_type": "code",
   "execution_count": 33,
   "metadata": {
    "scrolled": true
   },
   "outputs": [
    {
     "data": {
      "image/png": "[encoded data removed]",
      "text/plain": [
       "<Figure size 432x288 with 1 Axes>"
      ]
     },
     "metadata": {
      "needs_background": "light"
     },
     "output_type": "display_data"
    }
   ],
   "source": [
    "# Which MMSI IDs appear the most in the gap events dataset/how often?\n",
    "sns.countplot(y=\"mmsi\", data=gap_notreg, palette=\"Set3\",\n",
    "              order=gap_notreg['mmsi'].value_counts().iloc[:7].index);"
   ]
  },
  {
   "cell_type": "code",
   "execution_count": 75,
   "metadata": {},
   "outputs": [
    {
     "data": {
      "text/plain": [
       "('2018-01-01T00:05:37Z', '2019-12-31T09:48:32Z')"
      ]
     },
     "execution_count": 75,
     "metadata": {},
     "output_type": "execute_result"
    }
   ],
   "source": [
    "# The total timeframe is 2 years\n",
    "gap_notreg['off_timestamp'].min(), gap_notreg['off_timestamp'].max()"
   ]
  },
  {
   "cell_type": "code",
   "execution_count": 76,
   "metadata": {},
   "outputs": [
    {
     "data": {
      "text/plain": [
       "('2018-01-01T12:33:32Z', '2019-12-31T23:58:24Z')"
      ]
     },
     "execution_count": 76,
     "metadata": {},
     "output_type": "execute_result"
    }
   ],
   "source": [
    "gap_notreg['on_timestamp'].min(), gap_notreg['on_timestamp'].max()"
   ]
  },
  {
   "cell_type": "code",
   "execution_count": 51,
   "metadata": {},
   "outputs": [
    {
     "data": {
      "image/png": "[encoded data removed]",
      "text/plain": [
       "<Figure size 1296x432 with 1 Axes>"
      ]
     },
     "metadata": {
      "needs_background": "light"
     },
     "output_type": "display_data"
    }
   ],
   "source": [
    "# check the distribution of gap hours\n",
    "\n",
    "high_gaps = gap_notreg[gap_notreg['gap_hours'] > 2000]\n",
    "low_gaps = gap_notreg[gap_notreg['gap_hours'] < 2000]\n",
    "\n",
    "plt.figure(figsize=(18,6))\n",
    "sns.distplot(low_gaps['gap_hours']).set(xlabel='Number of Hours off Radar', \n",
    "                                        ylabel='Number of Vessels', \n",
    "                                        title='Gap Hr Distribution (Under 2000 hrs)');"
   ]
  },
  {
   "cell_type": "code",
   "execution_count": 56,
   "metadata": {},
   "outputs": [
    {
     "data": {
      "image/png": "[encoded data removed]",
      "text/plain": [
       "<Figure size 1296x288 with 1 Axes>"
      ]
     },
     "metadata": {
      "needs_background": "light"
     },
     "output_type": "display_data"
    }
   ],
   "source": [
    "fig, ax = plt.subplots(figsize=(18,4))\n",
    "sns.boxplot(x = gap_notreg['gap_hours'], ax=ax).set(xlabel='Total Gap Hours', \n",
    "                                                    title='Gap Hour Distribution');"
   ]
  },
  {
   "cell_type": "code",
   "execution_count": 67,
   "metadata": {},
   "outputs": [
    {
     "data": {
      "image/png": "[encoded data removed]",
      "text/plain": [
       "<Figure size 1296x432 with 1 Axes>"
      ]
     },
     "metadata": {
      "needs_background": "light"
     },
     "output_type": "display_data"
    }
   ],
   "source": [
    "# Which countries have the highest avg gap hours\n",
    "countries = gap_notreg.groupby('flag')['gap_hours'].mean()\n",
    "\n",
    "plt.figure(figsize=(18,6))\n",
    "sns.countplot(x=\"flag\", data=gap_notreg, palette=\"Set3\",\n",
    "              order=gap_notreg['flag'].value_counts().iloc[:20].index).set(xlabel='Country',\n",
    "                                                                           title='Country');"
   ]
  },
  {
   "cell_type": "code",
   "execution_count": 68,
   "metadata": {},
   "outputs": [
    {
     "data": {
      "text/html": [
       "<div>\n",
       "<style scoped>\n",
       "    .dataframe tbody tr th:only-of-type {\n",
       "        vertical-align: middle;\n",
       "    }\n",
       "\n",
       "    .dataframe tbody tr th {\n",
       "        vertical-align: top;\n",
       "    }\n",
       "\n",
       "    .dataframe thead th {\n",
       "        text-align: right;\n",
       "    }\n",
       "</style>\n",
       "<table border=\"1\" class=\"dataframe\">\n",
       "  <thead>\n",
       "    <tr style=\"text-align: right;\">\n",
       "      <th></th>\n",
       "      <th>mmsi</th>\n",
       "      <th>gap_hours</th>\n",
       "      <th>gap_distance_m</th>\n",
       "      <th>gap_implied_speed_knots</th>\n",
       "      <th>positions_per_day</th>\n",
       "      <th>vessel_class</th>\n",
       "      <th>flag</th>\n",
       "      <th>off_timestamp</th>\n",
       "      <th>off_msgid</th>\n",
       "      <th>off_lat</th>\n",
       "      <th>...</th>\n",
       "      <th>off_type</th>\n",
       "      <th>off_receiver_type</th>\n",
       "      <th>off_distance_from_shore_m</th>\n",
       "      <th>on_timestamp</th>\n",
       "      <th>on_msgid</th>\n",
       "      <th>on_lat</th>\n",
       "      <th>on_lon</th>\n",
       "      <th>on_type</th>\n",
       "      <th>on_receiver_type</th>\n",
       "      <th>on_distance_from_shore_m</th>\n",
       "    </tr>\n",
       "  </thead>\n",
       "  <tbody>\n",
       "    <tr>\n",
       "      <th>124</th>\n",
       "      <td>200016091</td>\n",
       "      <td>117.200000</td>\n",
       "      <td>689944.085192</td>\n",
       "      <td>3.178669</td>\n",
       "      <td>4.257678</td>\n",
       "      <td>set_gillnets</td>\n",
       "      <td>Unknown</td>\n",
       "      <td>2018-03-26T22:28:10Z</td>\n",
       "      <td>6e1e6567-2906-5f15-82f2-a0576067682f</td>\n",
       "      <td>18.421942</td>\n",
       "      <td>...</td>\n",
       "      <td>B</td>\n",
       "      <td>satellite</td>\n",
       "      <td>367000.0</td>\n",
       "      <td>2018-03-31T19:40:58Z</td>\n",
       "      <td>8b3fff5d-a3e0-5685-ba2b-dd60f79b472b</td>\n",
       "      <td>22.177273</td>\n",
       "      <td>120.530672</td>\n",
       "      <td>B</td>\n",
       "      <td>terrestrial</td>\n",
       "      <td>14000.0</td>\n",
       "    </tr>\n",
       "    <tr>\n",
       "      <th>130</th>\n",
       "      <td>98339957</td>\n",
       "      <td>12.700000</td>\n",
       "      <td>131016.788712</td>\n",
       "      <td>5.570347</td>\n",
       "      <td>28.916213</td>\n",
       "      <td>drifting_longlines</td>\n",
       "      <td>Unknown</td>\n",
       "      <td>2018-10-21T03:05:21Z</td>\n",
       "      <td>aa25d4f4-a45d-5cfa-8607-e966c490ef5f</td>\n",
       "      <td>-15.902318</td>\n",
       "      <td>...</td>\n",
       "      <td>B</td>\n",
       "      <td>satellite</td>\n",
       "      <td>1087000.0</td>\n",
       "      <td>2018-10-21T15:47:50Z</td>\n",
       "      <td>9d10ab30-0454-528b-9eb0-118412a554b7</td>\n",
       "      <td>-14.854868</td>\n",
       "      <td>-120.639522</td>\n",
       "      <td>B</td>\n",
       "      <td>satellite</td>\n",
       "      <td>1170000.0</td>\n",
       "    </tr>\n",
       "    <tr>\n",
       "      <th>282</th>\n",
       "      <td>810016062</td>\n",
       "      <td>12.966667</td>\n",
       "      <td>4.633133</td>\n",
       "      <td>0.000193</td>\n",
       "      <td>6.594351</td>\n",
       "      <td>fishing</td>\n",
       "      <td>Unknown</td>\n",
       "      <td>2018-11-19T08:57:16Z</td>\n",
       "      <td>9ab81d17-f25e-140f-64dd-649cb388fcf5</td>\n",
       "      <td>-5.454313</td>\n",
       "      <td>...</td>\n",
       "      <td>B</td>\n",
       "      <td>terrestrial</td>\n",
       "      <td>0.0</td>\n",
       "      <td>2018-11-19T21:55:47Z</td>\n",
       "      <td>a5c00cb7-94ec-c34b-9394-fd6a1029b93d</td>\n",
       "      <td>-5.454355</td>\n",
       "      <td>122.613133</td>\n",
       "      <td>B</td>\n",
       "      <td>terrestrial</td>\n",
       "      <td>0.0</td>\n",
       "    </tr>\n",
       "    <tr>\n",
       "      <th>290</th>\n",
       "      <td>719977424</td>\n",
       "      <td>19.950000</td>\n",
       "      <td>90281.339362</td>\n",
       "      <td>2.443510</td>\n",
       "      <td>11.491307</td>\n",
       "      <td>drifting_longlines</td>\n",
       "      <td>Unknown</td>\n",
       "      <td>2018-02-05T16:51:50Z</td>\n",
       "      <td>8bb5b36e-79d3-5010-86bf-ae434271adcf</td>\n",
       "      <td>-27.956172</td>\n",
       "      <td>...</td>\n",
       "      <td>B</td>\n",
       "      <td>terrestrial</td>\n",
       "      <td>6000.0</td>\n",
       "      <td>2018-02-06T12:49:45Z</td>\n",
       "      <td>89e63cb4-015a-540b-8796-bc3711e838c9</td>\n",
       "      <td>-27.144683</td>\n",
       "      <td>-48.533262</td>\n",
       "      <td>B</td>\n",
       "      <td>terrestrial</td>\n",
       "      <td>1000.0</td>\n",
       "    </tr>\n",
       "    <tr>\n",
       "      <th>448</th>\n",
       "      <td>110005650</td>\n",
       "      <td>18.950000</td>\n",
       "      <td>1439.735744</td>\n",
       "      <td>0.041023</td>\n",
       "      <td>0.130145</td>\n",
       "      <td>set_longlines</td>\n",
       "      <td>Unknown</td>\n",
       "      <td>2018-12-01T13:45:01Z</td>\n",
       "      <td>0dbec03e-8376-5e98-a9ad-d157ce0f13e2</td>\n",
       "      <td>24.630988</td>\n",
       "      <td>...</td>\n",
       "      <td>B</td>\n",
       "      <td>terrestrial</td>\n",
       "      <td>3000.0</td>\n",
       "      <td>2018-12-02T08:42:50Z</td>\n",
       "      <td>14265eae-eb0b-558a-958d-f368ee91c342</td>\n",
       "      <td>24.618092</td>\n",
       "      <td>121.886778</td>\n",
       "      <td>B</td>\n",
       "      <td>terrestrial</td>\n",
       "      <td>2000.0</td>\n",
       "    </tr>\n",
       "    <tr>\n",
       "      <th>...</th>\n",
       "      <td>...</td>\n",
       "      <td>...</td>\n",
       "      <td>...</td>\n",
       "      <td>...</td>\n",
       "      <td>...</td>\n",
       "      <td>...</td>\n",
       "      <td>...</td>\n",
       "      <td>...</td>\n",
       "      <td>...</td>\n",
       "      <td>...</td>\n",
       "      <td>...</td>\n",
       "      <td>...</td>\n",
       "      <td>...</td>\n",
       "      <td>...</td>\n",
       "      <td>...</td>\n",
       "      <td>...</td>\n",
       "      <td>...</td>\n",
       "      <td>...</td>\n",
       "      <td>...</td>\n",
       "      <td>...</td>\n",
       "      <td>...</td>\n",
       "    </tr>\n",
       "    <tr>\n",
       "      <th>499381</th>\n",
       "      <td>992517120</td>\n",
       "      <td>99.766667</td>\n",
       "      <td>36564.741570</td>\n",
       "      <td>0.197896</td>\n",
       "      <td>24.369881</td>\n",
       "      <td>set_longlines</td>\n",
       "      <td>Unknown</td>\n",
       "      <td>2018-04-17T07:26:56Z</td>\n",
       "      <td>40bd4e76-e363-5462-932c-03adbe43041b</td>\n",
       "      <td>67.531205</td>\n",
       "      <td>...</td>\n",
       "      <td>B</td>\n",
       "      <td>satellite</td>\n",
       "      <td>135000.0</td>\n",
       "      <td>2018-04-21T11:13:44Z</td>\n",
       "      <td>ed6ed64a-73c8-5d66-a517-7352de9519aa</td>\n",
       "      <td>67.508148</td>\n",
       "      <td>-20.112285</td>\n",
       "      <td>B</td>\n",
       "      <td>satellite</td>\n",
       "      <td>138000.0</td>\n",
       "    </tr>\n",
       "    <tr>\n",
       "      <th>499685</th>\n",
       "      <td>877792200</td>\n",
       "      <td>124.450000</td>\n",
       "      <td>52255.571014</td>\n",
       "      <td>0.226724</td>\n",
       "      <td>38.152525</td>\n",
       "      <td>trawlers</td>\n",
       "      <td>Unknown</td>\n",
       "      <td>2018-12-20T00:23:25Z</td>\n",
       "      <td>7cf1a5ad-bb01-c082-aa9c-ed9df823bec0</td>\n",
       "      <td>4.072828</td>\n",
       "      <td>...</td>\n",
       "      <td>B</td>\n",
       "      <td>satellite</td>\n",
       "      <td>29000.0</td>\n",
       "      <td>2018-12-25T04:50:54Z</td>\n",
       "      <td>6c799fab-8955-26eb-becb-4d2cf093ab65</td>\n",
       "      <td>4.219890</td>\n",
       "      <td>7.090702</td>\n",
       "      <td>B</td>\n",
       "      <td>satellite</td>\n",
       "      <td>19000.0</td>\n",
       "    </tr>\n",
       "    <tr>\n",
       "      <th>499758</th>\n",
       "      <td>420393</td>\n",
       "      <td>21.650000</td>\n",
       "      <td>364.103118</td>\n",
       "      <td>0.009081</td>\n",
       "      <td>10.915441</td>\n",
       "      <td>trawlers</td>\n",
       "      <td>Unknown</td>\n",
       "      <td>2018-05-27T18:01:15Z</td>\n",
       "      <td>51997ed2-1701-5685-9e28-cd554760642d</td>\n",
       "      <td>25.571575</td>\n",
       "      <td>...</td>\n",
       "      <td>A</td>\n",
       "      <td>terrestrial</td>\n",
       "      <td>69000.0</td>\n",
       "      <td>2018-05-28T15:40:40Z</td>\n",
       "      <td>e197e79c-e90e-5749-83a7-80ef3338ecf5</td>\n",
       "      <td>25.570275</td>\n",
       "      <td>53.601765</td>\n",
       "      <td>A</td>\n",
       "      <td>terrestrial</td>\n",
       "      <td>70000.0</td>\n",
       "    </tr>\n",
       "    <tr>\n",
       "      <th>499828</th>\n",
       "      <td>11051660</td>\n",
       "      <td>20.600000</td>\n",
       "      <td>78952.794573</td>\n",
       "      <td>2.069471</td>\n",
       "      <td>0.007618</td>\n",
       "      <td>tuna_purse_seines</td>\n",
       "      <td>Unknown</td>\n",
       "      <td>2019-08-29T02:01:23Z</td>\n",
       "      <td>08a42b50-8034-5897-beec-c996a7bcf550</td>\n",
       "      <td>24.592812</td>\n",
       "      <td>...</td>\n",
       "      <td>B</td>\n",
       "      <td>terrestrial</td>\n",
       "      <td>2000.0</td>\n",
       "      <td>2019-08-29T22:37:39Z</td>\n",
       "      <td>84a9bddb-f519-530f-8a31-9321b6d47a0e</td>\n",
       "      <td>25.298852</td>\n",
       "      <td>121.959855</td>\n",
       "      <td>B</td>\n",
       "      <td>terrestrial</td>\n",
       "      <td>19000.0</td>\n",
       "    </tr>\n",
       "    <tr>\n",
       "      <th>499974</th>\n",
       "      <td>900500616</td>\n",
       "      <td>22.666667</td>\n",
       "      <td>18250.833643</td>\n",
       "      <td>0.434764</td>\n",
       "      <td>25.047021</td>\n",
       "      <td>drifting_longlines</td>\n",
       "      <td>Unknown</td>\n",
       "      <td>2018-10-27T20:37:54Z</td>\n",
       "      <td>24b7dddc-59af-90f5-37c8-320f305f78fd</td>\n",
       "      <td>43.105475</td>\n",
       "      <td>...</td>\n",
       "      <td>B</td>\n",
       "      <td>satellite</td>\n",
       "      <td>540000.0</td>\n",
       "      <td>2018-10-28T19:18:03Z</td>\n",
       "      <td>9e2b37bf-7a76-6997-8e40-64c7297378d7</td>\n",
       "      <td>43.267228</td>\n",
       "      <td>156.346492</td>\n",
       "      <td>B</td>\n",
       "      <td>satellite</td>\n",
       "      <td>528000.0</td>\n",
       "    </tr>\n",
       "  </tbody>\n",
       "</table>\n",
       "<p>4179 rows × 21 columns</p>\n",
       "</div>"
      ],
      "text/plain": [
       "             mmsi   gap_hours  gap_distance_m  gap_implied_speed_knots  \\\n",
       "124     200016091  117.200000   689944.085192                 3.178669   \n",
       "130      98339957   12.700000   131016.788712                 5.570347   \n",
       "282     810016062   12.966667        4.633133                 0.000193   \n",
       "290     719977424   19.950000    90281.339362                 2.443510   \n",
       "448     110005650   18.950000     1439.735744                 0.041023   \n",
       "...           ...         ...             ...                      ...   \n",
       "499381  992517120   99.766667    36564.741570                 0.197896   \n",
       "499685  877792200  124.450000    52255.571014                 0.226724   \n",
       "499758     420393   21.650000      364.103118                 0.009081   \n",
       "499828   11051660   20.600000    78952.794573                 2.069471   \n",
       "499974  900500616   22.666667    18250.833643                 0.434764   \n",
       "\n",
       "        positions_per_day        vessel_class     flag         off_timestamp  \\\n",
       "124              4.257678        set_gillnets  Unknown  2018-03-26T22:28:10Z   \n",
       "130             28.916213  drifting_longlines  Unknown  2018-10-21T03:05:21Z   \n",
       "282              6.594351             fishing  Unknown  2018-11-19T08:57:16Z   \n",
       "290             11.491307  drifting_longlines  Unknown  2018-02-05T16:51:50Z   \n",
       "448              0.130145       set_longlines  Unknown  2018-12-01T13:45:01Z   \n",
       "...                   ...                 ...      ...                   ...   \n",
       "499381          24.369881       set_longlines  Unknown  2018-04-17T07:26:56Z   \n",
       "499685          38.152525            trawlers  Unknown  2018-12-20T00:23:25Z   \n",
       "499758          10.915441            trawlers  Unknown  2018-05-27T18:01:15Z   \n",
       "499828           0.007618   tuna_purse_seines  Unknown  2019-08-29T02:01:23Z   \n",
       "499974          25.047021  drifting_longlines  Unknown  2018-10-27T20:37:54Z   \n",
       "\n",
       "                                   off_msgid    off_lat  ...  off_type  \\\n",
       "124     6e1e6567-2906-5f15-82f2-a0576067682f  18.421942  ...         B   \n",
       "130     aa25d4f4-a45d-5cfa-8607-e966c490ef5f -15.902318  ...         B   \n",
       "282     9ab81d17-f25e-140f-64dd-649cb388fcf5  -5.454313  ...         B   \n",
       "290     8bb5b36e-79d3-5010-86bf-ae434271adcf -27.956172  ...         B   \n",
       "448     0dbec03e-8376-5e98-a9ad-d157ce0f13e2  24.630988  ...         B   \n",
       "...                                      ...        ...  ...       ...   \n",
       "499381  40bd4e76-e363-5462-932c-03adbe43041b  67.531205  ...         B   \n",
       "499685  7cf1a5ad-bb01-c082-aa9c-ed9df823bec0   4.072828  ...         B   \n",
       "499758  51997ed2-1701-5685-9e28-cd554760642d  25.571575  ...         A   \n",
       "499828  08a42b50-8034-5897-beec-c996a7bcf550  24.592812  ...         B   \n",
       "499974  24b7dddc-59af-90f5-37c8-320f305f78fd  43.105475  ...         B   \n",
       "\n",
       "       off_receiver_type off_distance_from_shore_m          on_timestamp  \\\n",
       "124            satellite                  367000.0  2018-03-31T19:40:58Z   \n",
       "130            satellite                 1087000.0  2018-10-21T15:47:50Z   \n",
       "282          terrestrial                       0.0  2018-11-19T21:55:47Z   \n",
       "290          terrestrial                    6000.0  2018-02-06T12:49:45Z   \n",
       "448          terrestrial                    3000.0  2018-12-02T08:42:50Z   \n",
       "...                  ...                       ...                   ...   \n",
       "499381         satellite                  135000.0  2018-04-21T11:13:44Z   \n",
       "499685         satellite                   29000.0  2018-12-25T04:50:54Z   \n",
       "499758       terrestrial                   69000.0  2018-05-28T15:40:40Z   \n",
       "499828       terrestrial                    2000.0  2019-08-29T22:37:39Z   \n",
       "499974         satellite                  540000.0  2018-10-28T19:18:03Z   \n",
       "\n",
       "                                    on_msgid     on_lat      on_lon  on_type  \\\n",
       "124     8b3fff5d-a3e0-5685-ba2b-dd60f79b472b  22.177273  120.530672        B   \n",
       "130     9d10ab30-0454-528b-9eb0-118412a554b7 -14.854868 -120.639522        B   \n",
       "282     a5c00cb7-94ec-c34b-9394-fd6a1029b93d  -5.454355  122.613133        B   \n",
       "290     89e63cb4-015a-540b-8796-bc3711e838c9 -27.144683  -48.533262        B   \n",
       "448     14265eae-eb0b-558a-958d-f368ee91c342  24.618092  121.886778        B   \n",
       "...                                      ...        ...         ...      ...   \n",
       "499381  ed6ed64a-73c8-5d66-a517-7352de9519aa  67.508148  -20.112285        B   \n",
       "499685  6c799fab-8955-26eb-becb-4d2cf093ab65   4.219890    7.090702        B   \n",
       "499758  e197e79c-e90e-5749-83a7-80ef3338ecf5  25.570275   53.601765        A   \n",
       "499828  84a9bddb-f519-530f-8a31-9321b6d47a0e  25.298852  121.959855        B   \n",
       "499974  9e2b37bf-7a76-6997-8e40-64c7297378d7  43.267228  156.346492        B   \n",
       "\n",
       "       on_receiver_type on_distance_from_shore_m  \n",
       "124         terrestrial                  14000.0  \n",
       "130           satellite                1170000.0  \n",
       "282         terrestrial                      0.0  \n",
       "290         terrestrial                   1000.0  \n",
       "448         terrestrial                   2000.0  \n",
       "...                 ...                      ...  \n",
       "499381        satellite                 138000.0  \n",
       "499685        satellite                  19000.0  \n",
       "499758      terrestrial                  70000.0  \n",
       "499828      terrestrial                  19000.0  \n",
       "499974        satellite                 528000.0  \n",
       "\n",
       "[4179 rows x 21 columns]"
      ]
     },
     "execution_count": 68,
     "metadata": {},
     "output_type": "execute_result"
    }
   ],
   "source": [
    "# Check for unknown countries\n",
    "gap_notreg[gap_notreg['flag'] == 'Unknown']"
   ]
  },
  {
   "cell_type": "code",
   "execution_count": 69,
   "metadata": {},
   "outputs": [
    {
     "data": {
      "text/plain": [
       "trawlers              116155\n",
       "set_gillnets           59247\n",
       "fishing                41303\n",
       "fixed_gear             26121\n",
       "set_longlines          26111\n",
       "drifting_longlines     20678\n",
       "other_purse_seines     14945\n",
       "tuna_purse_seines      13837\n",
       "pots_and_traps         11291\n",
       "dredge_fishing          9649\n",
       "purse_seines            2325\n",
       "pole_and_line           2265\n",
       "squid_jigger            1887\n",
       "trollers                 757\n",
       "other_seines              97\n",
       "driftnets                 67\n",
       "other_fishing             27\n",
       "Name: vessel_class, dtype: int64"
      ]
     },
     "execution_count": 69,
     "metadata": {},
     "output_type": "execute_result"
    }
   ],
   "source": [
    "# What types of vessels are the worst offenders (appearing the most often)\n",
    "gap_notreg['vessel_class'].value_counts()"
   ]
  },
  {
   "cell_type": "code",
   "execution_count": 70,
   "metadata": {},
   "outputs": [
    {
     "data": {
      "text/plain": [
       "flag\n",
       "GNB    3225.416667\n",
       "SLE    2266.116667\n",
       "SLB    1287.233333\n",
       "LIE     614.925000\n",
       "GUF     554.983333\n",
       "          ...     \n",
       "FSM      17.248485\n",
       "ARE      16.050000\n",
       "JAM      15.516667\n",
       "AFG      15.216667\n",
       "MDG      14.499123\n",
       "Name: gap_hours, Length: 131, dtype: float64"
      ]
     },
     "execution_count": 70,
     "metadata": {},
     "output_type": "execute_result"
    }
   ],
   "source": [
    "# Which countries have the highest average gaps\n",
    "gap_notreg.groupby('flag')['gap_hours'].mean().sort_values(ascending=False)"
   ]
  },
  {
   "cell_type": "code",
   "execution_count": null,
   "metadata": {},
   "outputs": [],
   "source": [
    "# Which vessels have the highest avg gaps\n",
    "gap_notreg.groupby(['mmsi','flag','vessel_class'])['gap_hours'].mean().sort_values(ascending=False)"
   ]
  },
  {
   "cell_type": "code",
   "execution_count": null,
   "metadata": {},
   "outputs": [],
   "source": [
    "# Bar plot showing the vessels with the highest avg gap hrs\n",
    "# x ticks will display the flag"
   ]
  },
  {
   "cell_type": "code",
   "execution_count": null,
   "metadata": {
    "scrolled": true
   },
   "outputs": [],
   "source": [
    "# plot a scatter plot of latitude/longitude\n",
    "plt.figure(figsize=(12,8))\n",
    "plt.scatter(x=gap_notreg['off_lat'], y=gap_notreg['off_lon'])\n",
    "plt.title('AIS off Location');"
   ]
  },
  {
   "cell_type": "code",
   "execution_count": 21,
   "metadata": {},
   "outputs": [
    {
     "data": {
      "image/png": "[encoded data removed]",
      "text/plain": [
       "<Figure size 1008x720 with 2 Axes>"
      ]
     },
     "metadata": {
      "needs_background": "light"
     },
     "output_type": "display_data"
    }
   ],
   "source": [
    "# Where are the boats with the longest gaps\n",
    "\n",
    "high_gaps = gap_notreg[gap_notreg['gap_hours'] > 2000]\n",
    "\n",
    "high_gaps.plot(kind=\"scatter\", x=\"off_lat\", y=\"off_lon\", c=\"gap_hours\",\n",
    "                cmap=\"inferno\", figsize=(14, 10), s=2);"
   ]
  },
  {
   "cell_type": "code",
   "execution_count": 47,
   "metadata": {},
   "outputs": [
    {
     "data": {
      "text/plain": [
       "Index(['mmsi', 'gap_hours', 'gap_distance_m', 'gap_implied_speed_knots',\n",
       "       'positions_per_day', 'vessel_class', 'flag', 'off_timestamp',\n",
       "       'off_msgid', 'off_lat', 'off_lon', 'off_type', 'off_receiver_type',\n",
       "       'off_distance_from_shore_m', 'on_timestamp', 'on_msgid', 'on_lat',\n",
       "       'on_lon', 'on_type', 'on_receiver_type', 'on_distance_from_shore_m'],\n",
       "      dtype='object')"
      ]
     },
     "execution_count": 47,
     "metadata": {},
     "output_type": "execute_result"
    }
   ],
   "source": [
    "gap_notreg.columns"
   ]
  },
  {
   "cell_type": "code",
   "execution_count": null,
   "metadata": {},
   "outputs": [],
   "source": [
    "# When did the highest number of gap events take place?"
   ]
  },
  {
   "cell_type": "code",
   "execution_count": 8,
   "metadata": {},
   "outputs": [],
   "source": [
    "# save to csv\n",
    "gap_notreg.to_csv('./data/gap_notreg.csv', index=False)"
   ]
  },
  {
   "cell_type": "code",
   "execution_count": null,
   "metadata": {},
   "outputs": [],
   "source": []
  }
 ],
 "metadata": {
  "kernelspec": {
   "display_name": "Python 3",
   "language": "python",
   "name": "python3"
  },
  "language_info": {
   "codemirror_mode": {
    "name": "ipython",
    "version": 3
   },
   "file_extension": ".py",
   "mimetype": "text/x-python",
   "name": "python",
   "nbconvert_exporter": "python",
   "pygments_lexer": "ipython3",
   "version": "3.7.6"
  },
  "toc": {
   "base_numbering": 1,
   "nav_menu": {},
   "number_sections": true,
   "sideBar": true,
   "skip_h1_title": false,
   "title_cell": "Table of Contents",
   "title_sidebar": "Contents",
   "toc_cell": false,
   "toc_position": {
    "height": "calc(100% - 180px)",
    "left": "10px",
    "top": "150px",
    "width": "165px"
   },
   "toc_section_display": true,
   "toc_window_display": true
  }
 },
 "nbformat": 4,
 "nbformat_minor": 2
}
