{
 "cells": [
  {
   "cell_type": "markdown",
   "metadata": {},
   "source": [
    "## Overview: Illuminating Patterns in the Global Fishing and Ocean Sector\n",
    "The Global Fishing Watch's mission is to use satellite technology, cloud computing and machine learning to create a more complete and connected picture of global fishing activity. This capstone project is a compliment to their work on fishing and vessel detection.  \n",
    "\n",
    "The U.S. Coast Guard collects vessel traffic data, also known as Automatic Identification System (AIS) data, through onboard devices that monitor the real time location and characteristics of large vessels in U.S. and international waters. This data can provide valuable insights on vessel activity, however sometimes it is not always broadcasted. Is this happening due to a lack of satellite coverage, a dense fishing zone or for another reason?\n",
    "\n",
    "## Problem Statement\n",
    "I. I will build a classification model that identifies fishing/non-fishing vessels in international waters.  \n",
    "II. I will use classification/regression models to look for relationships and patterns in the location, duration and distance of gap events.  \n",
    "\n",
    "## Approach\n",
    "_Please note some of the elements of these approaches can be part of a longer-term agenda and are not all required to be completed within the scope of the capstone_  \n",
    "\n",
    "I. Classify fishing and non-fishing vessels.\n",
    "- **Focus:** Train a fishing detection model. \n",
    "- **Data:** Use anonymized, labeled Automatic Identification System (AIS) data to train fishing detection models. Use spatial datasets for feature engineering. \n",
    "    - [All datasets and code](https://globalfishingwatch.org/datasets-and-code/)\n",
    "    - [Anonymized AIS Data](https://globalfishingwatch.org/datasets-and-code/ais-and-other-data/) and other data for identifying fishing.\n",
    "    - [Fishing Detection Models](https://globalfishingwatch.org/datasets-and-code/fishing-detection-models/)\n",
    "- **Type:** Supervised, Classification\n",
    "- **Models:** Logistic regression, KNN, Bagged Decision Tree, Random Forest, Adaboost\n",
    "- **Performance Metrics:** R2/Accuracy\n",
    "\n",
    "II. Identify patterns in gap events (when AIS is not broadcasted).\n",
    "- **Focus:** What types of vessels/countries are more likely to have gaps and what patterns exist in the location, duration, distance, etc. of gap events.\n",
    "- **Data:** GFW dataset is in development and ripe for exploration, particularly clustering and other analyses that look for groups and relationships between gap events. Report by Oceana gives context on gap events. Would also involve sourcing identity information from vessel registries and matching data to the gaps dataset.  \n",
    "    - AIS gap events dataset: instances where a fishing vessel had a gap of at least 12 hrs\n",
    "    - list of vessel registries\n",
    "- **Type:** Supervised, Regression/Classification\n",
    "- **Models:** Multiple Linear Regression, Bagged Decision Tree, Random Forest, Adaboost, Kmeans/DBSCAN clustering \n",
    "- **Performance Metrics:** RMSE\n",
    "\n",
    "III. Incorporate time series or neural net model.  \n",
    "- **Question:** This would be an add-on to the first two questions, if application is appropriate and time allows.\n",
    "- **Dataset:** GFW's research accelerator program provides data on their Results of Neural Net Classifier and MMSI Matched to Registries (in CSV format).\n",
    "- **Type:** Supervised, Classification\n",
    "- **Models:** Convoluted 1-dimensional neural network classifier (check what architecture is available), ARIMA"
   ]
  },
  {
   "cell_type": "markdown",
   "metadata": {},
   "source": [
    "**Feedback**  \n",
    "could also be classification problem - if a gap occurs then what is the probability it could be one of these three reasons?  \n",
    "do we care how long the gap is or are we just trying to determine whether or not it's fishing?\n",
    "real time? could be built as a real time monitoring system. \n",
    "might be out of scope for this project but good for post graduation."
   ]
  },
  {
   "cell_type": "code",
   "execution_count": null,
   "metadata": {},
   "outputs": [],
   "source": []
  }
 ],
 "metadata": {
  "kernelspec": {
   "display_name": "Python 3",
   "language": "python",
   "name": "python3"
  },
  "language_info": {
   "codemirror_mode": {
    "name": "ipython",
    "version": 3
   },
   "file_extension": ".py",
   "mimetype": "text/x-python",
   "name": "python",
   "nbconvert_exporter": "python",
   "pygments_lexer": "ipython3",
   "version": "3.7.6"
  },
  "toc": {
   "base_numbering": 1,
   "nav_menu": {},
   "number_sections": true,
   "sideBar": true,
   "skip_h1_title": false,
   "title_cell": "Table of Contents",
   "title_sidebar": "Contents",
   "toc_cell": false,
   "toc_position": {},
   "toc_section_display": true,
   "toc_window_display": false
  }
 },
 "nbformat": 4,
 "nbformat_minor": 2
}
